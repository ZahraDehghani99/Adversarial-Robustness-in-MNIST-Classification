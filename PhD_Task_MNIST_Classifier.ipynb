{
  "cells": [
    {
      "cell_type": "markdown",
      "metadata": {
        "id": "view-in-github",
        "colab_type": "text"
      },
      "source": [
        "<a href=\"https://colab.research.google.com/github/ZahraDehghani99/PhD-Task_Security-testing-USI-/blob/main/PhD_Task_MNIST_Classifier.ipynb\" target=\"_parent\"><img src=\"https://colab.research.google.com/assets/colab-badge.svg\" alt=\"Open In Colab\"/></a>"
      ]
    },
    {
      "cell_type": "markdown",
      "metadata": {
        "id": "qZxssRmeoCdS"
      },
      "source": [
        "# 1. Train MNIST Digits classification"
      ]
    },
    {
      "cell_type": "markdown",
      "source": [
        "In this phase we want to Train a digit classifier on MNIST dataset using Pytorch framework. For this aim, we use famous CNN architecure whose name is LeNet. We want to reach the accuracy of at least 80%.\n",
        "\n",
        "In the beginning we import required libraries. The most important library that we used is `torch`, which offers us to use Pytorch for training and testing our model."
      ],
      "metadata": {
        "id": "4_FyviGtkuC1"
      }
    },
    {
      "cell_type": "markdown",
      "metadata": {
        "id": "kzlBSwSloG0l"
      },
      "source": [
        "## Import required libraries"
      ]
    },
    {
      "cell_type": "code",
      "execution_count": null,
      "metadata": {
        "id": "NoRv4o0sKu04"
      },
      "outputs": [],
      "source": [
        "import torch\n",
        "import torch.nn as nn\n",
        "import torch.optim as optim\n",
        "\n",
        "import pandas as pd\n",
        "import numpy as np\n",
        "\n",
        "import matplotlib.pyplot as plt\n",
        "import seaborn as sns\n",
        "\n",
        "from tqdm import tqdm\n",
        "\n",
        "from sklearn.metrics import classification_report, confusion_matrix"
      ]
    },
    {
      "cell_type": "markdown",
      "source": [
        "We should mount google drive to save and load our model from it."
      ],
      "metadata": {
        "id": "sU9ba7EWl4UU"
      }
    },
    {
      "cell_type": "code",
      "execution_count": null,
      "metadata": {
        "colab": {
          "base_uri": "https://localhost:8080/"
        },
        "id": "hc638PV_U6he",
        "outputId": "c76c9c86-d401-4c05-bdee-a144174e7b94"
      },
      "outputs": [
        {
          "output_type": "stream",
          "name": "stdout",
          "text": [
            "Mounted at /content/drive\n"
          ]
        }
      ],
      "source": [
        "from google.colab import drive\n",
        "drive.mount('/content/drive')     "
      ]
    },
    {
      "cell_type": "markdown",
      "source": [
        "In this cell we specify our device which can be `cpu` or `cuda`. It uses for transfer model and other stuff to device (especially cude for improving train speed.). "
      ],
      "metadata": {
        "id": "o4Au8xiumEMn"
      }
    },
    {
      "cell_type": "code",
      "source": [
        "device = torch.device('cuda' if torch.cuda.is_available() else 'cpu')\n",
        "device"
      ],
      "metadata": {
        "colab": {
          "base_uri": "https://localhost:8080/"
        },
        "id": "E4NwQGPe8Svs",
        "outputId": "1827e9b2-aae5-405b-efc7-19f02da2ce49"
      },
      "execution_count": null,
      "outputs": [
        {
          "output_type": "execute_result",
          "data": {
            "text/plain": [
              "device(type='cuda')"
            ]
          },
          "metadata": {},
          "execution_count": 3
        }
      ]
    },
    {
      "cell_type": "markdown",
      "metadata": {
        "id": "FSS3dIE4pXuZ"
      },
      "source": [
        "## Load the MNIST dataset"
      ]
    },
    {
      "cell_type": "markdown",
      "metadata": {
        "id": "8nNO_j_2pY7f"
      },
      "source": [
        "We need to load the MNIST dataset. We can use PyTorch's built-in `torchvision.datasets` module to download and load the dataset."
      ]
    },
    {
      "cell_type": "code",
      "execution_count": null,
      "metadata": {
        "id": "Rb_HYRGRZAUa",
        "colab": {
          "base_uri": "https://localhost:8080/"
        },
        "outputId": "57547a7a-0176-4520-d256-701fa224d526"
      },
      "outputs": [
        {
          "output_type": "stream",
          "name": "stdout",
          "text": [
            "Downloading http://yann.lecun.com/exdb/mnist/train-images-idx3-ubyte.gz\n",
            "Downloading http://yann.lecun.com/exdb/mnist/train-images-idx3-ubyte.gz to data/MNIST/raw/train-images-idx3-ubyte.gz\n"
          ]
        },
        {
          "output_type": "stream",
          "name": "stderr",
          "text": [
            "100%|██████████| 9912422/9912422 [00:00<00:00, 99478179.17it/s]\n"
          ]
        },
        {
          "output_type": "stream",
          "name": "stdout",
          "text": [
            "Extracting data/MNIST/raw/train-images-idx3-ubyte.gz to data/MNIST/raw\n",
            "\n",
            "Downloading http://yann.lecun.com/exdb/mnist/train-labels-idx1-ubyte.gz\n",
            "Downloading http://yann.lecun.com/exdb/mnist/train-labels-idx1-ubyte.gz to data/MNIST/raw/train-labels-idx1-ubyte.gz\n"
          ]
        },
        {
          "output_type": "stream",
          "name": "stderr",
          "text": [
            "100%|██████████| 28881/28881 [00:00<00:00, 97768921.57it/s]\n"
          ]
        },
        {
          "output_type": "stream",
          "name": "stdout",
          "text": [
            "Extracting data/MNIST/raw/train-labels-idx1-ubyte.gz to data/MNIST/raw\n",
            "\n",
            "Downloading http://yann.lecun.com/exdb/mnist/t10k-images-idx3-ubyte.gz\n",
            "Downloading http://yann.lecun.com/exdb/mnist/t10k-images-idx3-ubyte.gz to data/MNIST/raw/t10k-images-idx3-ubyte.gz\n"
          ]
        },
        {
          "output_type": "stream",
          "name": "stderr",
          "text": [
            "100%|██████████| 1648877/1648877 [00:00<00:00, 26477987.23it/s]\n"
          ]
        },
        {
          "output_type": "stream",
          "name": "stdout",
          "text": [
            "Extracting data/MNIST/raw/t10k-images-idx3-ubyte.gz to data/MNIST/raw\n",
            "\n",
            "Downloading http://yann.lecun.com/exdb/mnist/t10k-labels-idx1-ubyte.gz\n",
            "Downloading http://yann.lecun.com/exdb/mnist/t10k-labels-idx1-ubyte.gz to data/MNIST/raw/t10k-labels-idx1-ubyte.gz\n"
          ]
        },
        {
          "output_type": "stream",
          "name": "stderr",
          "text": [
            "100%|██████████| 4542/4542 [00:00<00:00, 22760488.37it/s]\n"
          ]
        },
        {
          "output_type": "stream",
          "name": "stdout",
          "text": [
            "Extracting data/MNIST/raw/t10k-labels-idx1-ubyte.gz to data/MNIST/raw\n",
            "\n"
          ]
        }
      ],
      "source": [
        "from torchvision.datasets import MNIST\n",
        "from torchvision.transforms import ToTensor\n",
        "\n",
        "train_dataset = MNIST(root='data/', train=True, transform=ToTensor(), download=True)\n",
        "test_dataset = MNIST(root='data/', train=False, transform=ToTensor(), download=True)"
      ]
    },
    {
      "cell_type": "code",
      "source": [
        "print(f'type of first element of train_dataset : {type(train_dataset[0])}')"
      ],
      "metadata": {
        "colab": {
          "base_uri": "https://localhost:8080/"
        },
        "id": "6Qvoas6u6wCc",
        "outputId": "ee3e523c-4a25-4cfd-8d2a-321fee8ff6c0"
      },
      "execution_count": null,
      "outputs": [
        {
          "output_type": "stream",
          "name": "stdout",
          "text": [
            "type of first element of train_dataset : <class 'tuple'>\n"
          ]
        }
      ]
    },
    {
      "cell_type": "code",
      "source": [
        "print(f'shape of first element of tuple: {train_dataset[0][0].shape} and seconde element of tuple is int and its value is : {train_dataset[0][1]}')"
      ],
      "metadata": {
        "colab": {
          "base_uri": "https://localhost:8080/"
        },
        "id": "HDREL5tt68z7",
        "outputId": "f28cb32c-ed9b-404b-c37a-14aafdd42c61"
      },
      "execution_count": null,
      "outputs": [
        {
          "output_type": "stream",
          "name": "stdout",
          "text": [
            "shape of first element of tuple: torch.Size([1, 28, 28]) and seconde element of tuple is int and its value is : 5\n"
          ]
        }
      ]
    },
    {
      "cell_type": "markdown",
      "source": [
        "Next we should specify the value of our parameters and hyperparameters."
      ],
      "metadata": {
        "id": "lKHzITRrmdSg"
      }
    },
    {
      "cell_type": "code",
      "execution_count": null,
      "metadata": {
        "id": "wm7nLRvtaeQv"
      },
      "outputs": [],
      "source": [
        "batch_size = 128\n",
        "learning_rate = 0.001\n",
        "num_epochs = 10"
      ]
    },
    {
      "cell_type": "markdown",
      "source": [
        "Next we should create train loader and test loader in order to iterate over batches of data. It's worth to mention that we should set `shuffle=True` in train loader. It prevents model learning the order of labels in dataset. On the other hand we should set `shuffle=False` in test loader, because when we are in test phase, it does not have effect on model any more."
      ],
      "metadata": {
        "id": "qYw_NxBWn5y6"
      }
    },
    {
      "cell_type": "code",
      "execution_count": null,
      "metadata": {
        "id": "s41LqtVtbBCs"
      },
      "outputs": [],
      "source": [
        "train_loader = torch.utils.data.DataLoader(train_dataset, batch_size=batch_size, shuffle=True, pin_memory=True)\n",
        "test_loader = torch.utils.data.DataLoader(test_dataset, batch_size=batch_size, shuffle=False, pin_memory=True)"
      ]
    },
    {
      "cell_type": "code",
      "execution_count": null,
      "metadata": {
        "colab": {
          "base_uri": "https://localhost:8080/"
        },
        "id": "GcdsN461arwP",
        "outputId": "0c7d9401-4782-4efe-fcda-6ae756d147ae"
      },
      "outputs": [
        {
          "output_type": "stream",
          "name": "stdout",
          "text": [
            "length of train_dataset is : 60000 and length of train_loader is : 469\n",
            "length of test_dataset is : 10000 and length of test_loader is : 79\n"
          ]
        }
      ],
      "source": [
        "print(f'length of train_dataset is : {len(train_dataset)} and length of train_loader is : {len(train_loader)}')\n",
        "print(f'length of test_dataset is : {len(test_dataset)} and length of test_loader is : {len(test_loader)}')"
      ]
    },
    {
      "cell_type": "markdown",
      "source": [
        "In this cell we want to watch data distribution. As we can see we have balanced dataset."
      ],
      "metadata": {
        "id": "MbgNhgOItKAZ"
      }
    },
    {
      "cell_type": "code",
      "execution_count": null,
      "metadata": {
        "id": "z7BldIjnRRp0"
      },
      "outputs": [],
      "source": [
        "classes = [label for _, label in train_dataset]\n",
        "y = pd.DataFrame(classes)\n",
        "y.columns = ['label']"
      ]
    },
    {
      "cell_type": "code",
      "execution_count": null,
      "metadata": {
        "colab": {
          "base_uri": "https://localhost:8080/",
          "height": 482
        },
        "id": "saMrTcK4RUM2",
        "outputId": "7f49c7c1-fefc-457b-89bb-7caced66cbbe"
      },
      "outputs": [
        {
          "output_type": "display_data",
          "data": {
            "text/plain": [
              "<Figure size 1000x500 with 1 Axes>"
            ],
            "image/png": "[encoded data removed]"
          },
          "metadata": {}
        }
      ],
      "source": [
        "fig = plt.figure(figsize=(10,5))\n",
        "sns.countplot(x=\"label\", data=y)\n",
        "plt.title(\"Distribution of data in each class\")\n",
        "plt.xticks(rotation=90)\n",
        "plt.rc('xtick', labelsize=15)\n",
        "plt.show()"
      ]
    },
    {
      "cell_type": "code",
      "execution_count": null,
      "metadata": {
        "colab": {
          "base_uri": "https://localhost:8080/"
        },
        "id": "Wa0ADABcazVO",
        "outputId": "1a3a5767-793a-4f42-f32b-50279b106c41"
      },
      "outputs": [
        {
          "output_type": "stream",
          "name": "stdout",
          "text": [
            "samples shape : torch.Size([128, 1, 28, 28]) ,labels shape : torch.Size([128])\n"
          ]
        }
      ],
      "source": [
        "examples = iter(train_loader)\n",
        "#unpack examples\n",
        "samples , labels = next(examples)\n",
        "print(f'samples shape : {samples.shape} ,labels shape : {labels.shape}')"
      ]
    },
    {
      "cell_type": "code",
      "execution_count": null,
      "metadata": {
        "colab": {
          "base_uri": "https://localhost:8080/",
          "height": 417
        },
        "id": "WjHi-Bvoa5hd",
        "outputId": "b10db3b9-e8f1-44a7-a586-3408c1269df3"
      },
      "outputs": [
        {
          "output_type": "display_data",
          "data": {
            "text/plain": [
              "<Figure size 640x480 with 6 Axes>"
            ],
            "image/png": "[encoded data removed]"
          },
          "metadata": {}
        }
      ],
      "source": [
        "for i in range(6):\n",
        "  plt.subplot(2,3, i+1)\n",
        "  plt.imshow(samples[i][0],cmap='gray')"
      ]
    },
    {
      "cell_type": "markdown",
      "metadata": {
        "id": "PIE1Ew4sOJzU"
      },
      "source": [
        "##  Define the LeNet architecture"
      ]
    },
    {
      "cell_type": "code",
      "execution_count": null,
      "metadata": {
        "id": "R6hy8ybKZCoH"
      },
      "outputs": [],
      "source": [
        "class LeNet(nn.Module):\n",
        "    def __init__(self):\n",
        "        super(LeNet, self).__init__()\n",
        "        self.conv1 = nn.Conv2d(1, 6, kernel_size=5)\n",
        "        self.pool1 = nn.MaxPool2d(kernel_size=2)\n",
        "        self.conv2 = nn.Conv2d(6, 16, kernel_size=5)\n",
        "        self.pool2 = nn.MaxPool2d(kernel_size=2)\n",
        "        self.fc1 = nn.Linear(16 * 4 * 4, 120)\n",
        "        self.fc2 = nn.Linear(120, 84)\n",
        "        self.fc3 = nn.Linear(84, 10)\n",
        "\n",
        "    def forward(self, x):\n",
        "        x = self.pool1(torch.relu(self.conv1(x)))\n",
        "        x = self.pool2(torch.relu(self.conv2(x)))\n",
        "        x = x.view(-1, 16 * 4 * 4)\n",
        "        x = torch.relu(self.fc1(x))\n",
        "        x = torch.relu(self.fc2(x))\n",
        "        x = self.fc3(x)\n",
        "        return x\n"
      ]
    },
    {
      "cell_type": "markdown",
      "metadata": {
        "id": "wRvmzKqPPAfG"
      },
      "source": [
        "## Define the loss function and optimizer"
      ]
    },
    {
      "cell_type": "markdown",
      "source": [
        "We should initiate model, define criterion and optimizer."
      ],
      "metadata": {
        "id": "xc1PndYmuOLV"
      }
    },
    {
      "cell_type": "code",
      "execution_count": null,
      "metadata": {
        "id": "UE1jVKl6ZCla"
      },
      "outputs": [],
      "source": [
        "model = LeNet()\n",
        "criterion = nn.CrossEntropyLoss()\n",
        "optimizer = optim.Adam(model.parameters(), lr=learning_rate)\n",
        "n_total_step = len(train_loader)"
      ]
    },
    {
      "cell_type": "code",
      "source": [
        "model = model.to(device)\n",
        "criterion = criterion.to(device)"
      ],
      "metadata": {
        "id": "1nES8J1793fF"
      },
      "execution_count": null,
      "outputs": []
    },
    {
      "cell_type": "code",
      "execution_count": null,
      "metadata": {
        "colab": {
          "base_uri": "https://localhost:8080/"
        },
        "id": "sx6at_iUz37Q",
        "outputId": "f8d79418-5d3a-45ab-b07f-ae8187613f4b"
      },
      "outputs": [
        {
          "output_type": "stream",
          "name": "stdout",
          "text": [
            "LeNet(\n",
            "  (conv1): Conv2d(1, 6, kernel_size=(5, 5), stride=(1, 1))\n",
            "  (pool1): MaxPool2d(kernel_size=2, stride=2, padding=0, dilation=1, ceil_mode=False)\n",
            "  (conv2): Conv2d(6, 16, kernel_size=(5, 5), stride=(1, 1))\n",
            "  (pool2): MaxPool2d(kernel_size=2, stride=2, padding=0, dilation=1, ceil_mode=False)\n",
            "  (fc1): Linear(in_features=256, out_features=120, bias=True)\n",
            "  (fc2): Linear(in_features=120, out_features=84, bias=True)\n",
            "  (fc3): Linear(in_features=84, out_features=10, bias=True)\n",
            ")\n"
          ]
        }
      ],
      "source": [
        "print(model)"
      ]
    },
    {
      "cell_type": "markdown",
      "source": [
        "We use following function in training in order to calculate accuracy of each epoch."
      ],
      "metadata": {
        "id": "_-NVNBKmwFCK"
      }
    },
    {
      "cell_type": "code",
      "execution_count": null,
      "metadata": {
        "id": "ERinzwRZSJVD"
      },
      "outputs": [],
      "source": [
        "# Define a funciton to calculate accuracy for multi class classification model\n",
        "def multi_class_acc(y_pred, y_act):\n",
        "\n",
        "  y_pred_softmax = torch.softmax(y_pred, 1)\n",
        "  _, y_pred_tag = torch.max(y_pred_softmax,1)\n",
        "\n",
        "  correct = (y_pred_tag == y_act).float()  # Show which elements are the same with 1\n",
        "  acc = correct.sum()/len(correct)\n",
        "  acc = torch.round(acc * 100)\n",
        "\n",
        "  return acc"
      ]
    },
    {
      "cell_type": "markdown",
      "metadata": {
        "id": "3i-Y5XFQPXQe"
      },
      "source": [
        "## Train the network"
      ]
    },
    {
      "cell_type": "markdown",
      "source": [
        "For the aim of wathing the process of trianing model as it trains, we use `tensorboard`."
      ],
      "metadata": {
        "id": "XauRBN4kuWAW"
      }
    },
    {
      "cell_type": "code",
      "source": [
        "from datetime import datetime\n",
        "\n",
        "# Getting the current date and time\n",
        "dt = datetime.now()\n",
        "str_date_time = dt.strftime(\"%Y%m%d-%H%M%S\")"
      ],
      "metadata": {
        "id": "z5xxMR4O4BKn"
      },
      "execution_count": null,
      "outputs": []
    },
    {
      "cell_type": "code",
      "source": [
        "str_date_time"
      ],
      "metadata": {
        "colab": {
          "base_uri": "https://localhost:8080/",
          "height": 36
        },
        "id": "ooGaWHaEcIna",
        "outputId": "82e54618-42a7-4abe-9a7d-f3ab720a9784"
      },
      "execution_count": null,
      "outputs": [
        {
          "output_type": "execute_result",
          "data": {
            "text/plain": [
              "'20230427-081533'"
            ],
            "application/vnd.google.colaboratory.intrinsic+json": {
              "type": "string"
            }
          },
          "metadata": {},
          "execution_count": 17
        }
      ]
    },
    {
      "cell_type": "code",
      "execution_count": null,
      "metadata": {
        "id": "5tT6zDuPSarY"
      },
      "outputs": [],
      "source": [
        "from torch.utils.tensorboard import SummaryWriter\n",
        "writer = SummaryWriter()"
      ]
    },
    {
      "cell_type": "code",
      "execution_count": null,
      "metadata": {
        "id": "VNVW5mEvSdo2"
      },
      "outputs": [],
      "source": [
        "# %reload_ext tensorboard\n",
        "# %tensorboard --logdir=runs"
      ]
    },
    {
      "cell_type": "markdown",
      "source": [
        "<img style=\"float: left;\" src='https://drive.google.com/uc?id=1oewqtl0Zt0osHa0nDvm_ZPwjIFD6bIPF' width=\"500\" height=\"300\">\n",
        "<img style=\"float: right;\" src='https://drive.google.com/uc?id=1dbjnPiCQAnxhb_leKOvu4ZQIAxoJn09p' width=\"500\" height=\"300\">"
      ],
      "metadata": {
        "id": "L3KYStYjMxxJ"
      }
    },
    {
      "cell_type": "markdown",
      "source": [
        "## image of tensorboarad"
      ],
      "metadata": {
        "id": "768GufCihnkC"
      }
    },
    {
      "cell_type": "markdown",
      "source": [
        "In this cell we train our model and save train loss and accuracy in each epoch for plotting diagrams."
      ],
      "metadata": {
        "id": "gqgO1yg5b8IO"
      }
    },
    {
      "cell_type": "code",
      "execution_count": null,
      "metadata": {
        "colab": {
          "base_uri": "https://localhost:8080/"
        },
        "id": "bVWrLIddShim",
        "outputId": "5c0d9111-6d91-4798-da56-2d3af3882891"
      },
      "outputs": [
        {
          "output_type": "stream",
          "name": "stderr",
          "text": []
        }
      ],
      "source": [
        "train_loss = []\n",
        "train_acc = []\n",
        "\n",
        "for epoch in range(num_epochs):\n",
        "\n",
        "  train_epoch_loss = 0\n",
        "  train_epoch_acc = 0\n",
        "  loop = tqdm(enumerate(train_loader), total = n_total_step, leave = False)\n",
        "  \n",
        "  for i , (img, label) in loop:\n",
        "\n",
        "    # transfer tensor to device\n",
        "    img = img.to(device)\n",
        "    label = label.to(device)\n",
        "\n",
        "    # forward pass\n",
        "    y_pred = model(img)\n",
        "    loss_train = criterion(y_pred, label)\n",
        "    acc_train = multi_class_acc(y_pred, label)\n",
        "\n",
        "    # backward pass\n",
        "    optimizer.zero_grad()  # clear the gradients\n",
        "    loss_train.backward()\n",
        "    optimizer.step()       # update model weights\n",
        "\n",
        "    train_epoch_loss += loss_train.item()\n",
        "    train_epoch_acc += acc_train.item() \n",
        "  \n",
        "  train_loss.append(train_epoch_loss/len(train_loader))\n",
        "  train_acc.append(train_epoch_acc/len(train_loader))\n",
        "     \n",
        "  writer.add_scalar('training loss',train_epoch_loss/len(train_loader) , epoch * n_total_step + i)\n",
        "  writer.add_scalar('training accuracy',train_epoch_acc/len(train_loader) , epoch * n_total_step + i)\n",
        "  writer.flush()\n",
        "\n",
        "  # Upgrade progress bar\n",
        "  loop.set_description(f'Epoch : [{epoch + 1}/{num_epochs}]')\n",
        "  loop.set_postfix(loss = loss_train.item(), accuracy = acc_train.item())"
      ]
    },
    {
      "cell_type": "markdown",
      "source": [
        "As we can see loss function of the model is decreasing during training."
      ],
      "metadata": {
        "id": "7VPW-VV0cGeI"
      }
    },
    {
      "cell_type": "code",
      "execution_count": null,
      "metadata": {
        "colab": {
          "base_uri": "https://localhost:8080/",
          "height": 410
        },
        "id": "R8ffxxnaTk32",
        "outputId": "f86fda20-7043-4a6b-df6c-5ae9ca09d5f3"
      },
      "outputs": [
        {
          "output_type": "display_data",
          "data": {
            "text/plain": [
              "<Figure size 600x400 with 1 Axes>"
            ],
            "image/png": "[encoded data removed]"
          },
          "metadata": {}
        }
      ],
      "source": [
        "#Training loss\n",
        "plt.figure(figsize = (6, 4))\n",
        "plt.plot(train_loss, label='Training loss')\n",
        "plt.legend(frameon=False)\n",
        "plt.title(\"Loss function for each epoch\") \n",
        "plt.xlabel(\"Epochs\")\n",
        "plt.ylabel(\"Loss function\")\n",
        "plt.show()"
      ]
    },
    {
      "cell_type": "markdown",
      "source": [
        "As we can see, diagram of accuracy for each epoch is as expected and it's increasing."
      ],
      "metadata": {
        "id": "A2Gj_L20cRgk"
      }
    },
    {
      "cell_type": "code",
      "execution_count": null,
      "metadata": {
        "colab": {
          "base_uri": "https://localhost:8080/",
          "height": 410
        },
        "id": "4t4RNDx6TlRn",
        "outputId": "10626d04-a687-4aed-c9b0-a930b75cba54"
      },
      "outputs": [
        {
          "output_type": "display_data",
          "data": {
            "text/plain": [
              "<Figure size 600x400 with 1 Axes>"
            ],
            "image/png": "[encoded data removed]"
          },
          "metadata": {}
        }
      ],
      "source": [
        "#Training accuracy\n",
        "plt.figure(figsize = (6, 4))\n",
        "plt.plot(train_acc, label='Training loss')\n",
        "plt.legend(frameon=False)\n",
        "plt.title(\"Accuracy for each epoch\") \n",
        "plt.xlabel(\"Epochs\")\n",
        "plt.ylabel(\"Accuracy\")\n",
        "plt.show()"
      ]
    },
    {
      "cell_type": "markdown",
      "metadata": {
        "id": "1rzVwRpKXFOc"
      },
      "source": [
        "## Test the network"
      ]
    },
    {
      "cell_type": "markdown",
      "source": [
        "In this section we should test our trained model on test set."
      ],
      "metadata": {
        "id": "hL3kbMuWcbVT"
      }
    },
    {
      "cell_type": "code",
      "execution_count": null,
      "metadata": {
        "id": "uSKb3b7BTtO3"
      },
      "outputs": [],
      "source": [
        "classes = train_dataset.classes"
      ]
    },
    {
      "cell_type": "code",
      "execution_count": null,
      "metadata": {
        "colab": {
          "base_uri": "https://localhost:8080/"
        },
        "id": "8zkfMb-jfPkW",
        "outputId": "e1944405-0745-4eba-9a4d-fc6e2aea24b4"
      },
      "outputs": [
        {
          "output_type": "execute_result",
          "data": {
            "text/plain": [
              "['0 - zero',\n",
              " '1 - one',\n",
              " '2 - two',\n",
              " '3 - three',\n",
              " '4 - four',\n",
              " '5 - five',\n",
              " '6 - six',\n",
              " '7 - seven',\n",
              " '8 - eight',\n",
              " '9 - nine']"
            ]
          },
          "metadata": {},
          "execution_count": 24
        }
      ],
      "source": [
        "classes"
      ]
    },
    {
      "cell_type": "code",
      "execution_count": null,
      "metadata": {
        "colab": {
          "base_uri": "https://localhost:8080/"
        },
        "id": "5D2D82fgTxbu",
        "outputId": "4afbe39a-3283-40ed-b433-bffb8b4c2b20"
      },
      "outputs": [
        {
          "output_type": "stream",
          "name": "stdout",
          "text": [
            "accuracy of network on the 10000 images is : 98.6199951171875\n"
          ]
        }
      ],
      "source": [
        "y_pred_test = []\n",
        "y_actual_test = []\n",
        "\n",
        "model.eval()\n",
        "with torch.no_grad():\n",
        "  n_true = 0\n",
        "  n_total = 0\n",
        "\n",
        "  for im, lbs in test_loader:\n",
        "    im = im.to(device)\n",
        "    lbs = lbs.to(device)\n",
        "    output = model(im)\n",
        "\n",
        "    _, y_predtest = torch.max(output,1)\n",
        "\n",
        "    n_true += (y_predtest == lbs).sum()\n",
        "    n_total += lbs.size(0) \n",
        "\n",
        "    for i in range(len(y_predtest)):\n",
        "      y_pred_test.append(y_predtest[i])\n",
        "      y_actual_test.append(lbs[i])\n",
        "\n",
        "  print(f'accuracy of network on the {len(test_dataset)} images is : {(n_true/n_total) *100}')"
      ]
    },
    {
      "cell_type": "markdown",
      "metadata": {
        "id": "fI6_NCZGUU0v"
      },
      "source": [
        "## Confusion matrix"
      ]
    },
    {
      "cell_type": "markdown",
      "source": [
        "In this section we will print confusion matrix of the model on test set to understand operation of  model on test set for each class."
      ],
      "metadata": {
        "id": "Nu3tdM5ScgVO"
      }
    },
    {
      "cell_type": "code",
      "source": [
        "y_actual_test = [i.cpu() for i in y_actual_test]\n",
        "y_pred_test = [i.cpu() for i in y_pred_test]"
      ],
      "metadata": {
        "id": "Z9XwZ-_BBdYR"
      },
      "execution_count": null,
      "outputs": []
    },
    {
      "cell_type": "code",
      "execution_count": null,
      "metadata": {
        "colab": {
          "base_uri": "https://localhost:8080/",
          "height": 641
        },
        "id": "6_9l7ruSUNmY",
        "outputId": "83e0837f-0c91-4cc9-d0e8-82ee0c28983b"
      },
      "outputs": [
        {
          "output_type": "display_data",
          "data": {
            "text/plain": [
              "<Figure size 1000x700 with 2 Axes>"
            ],
            "image/png": "[encoded data removed]"
          },
          "metadata": {}
        }
      ],
      "source": [
        "from sklearn import metrics\n",
        "import seaborn as sns\n",
        "\n",
        "plt.figure(figsize = (10, 7))\n",
        "ax= plt.subplot()\n",
        "cnf_matrix = metrics.confusion_matrix(y_actual_test, y_pred_test)\n",
        "sns.heatmap(pd.DataFrame(cnf_matrix), annot=True, fmt='g', ax=ax)  #annot=True to annotate cells, ftm='g' to disable scientific notation\n",
        "\n",
        "confusion_matrix_tags = [i.split(\"-\")[0] for i in classes]\n",
        "# labels, title and ticks\n",
        "ax.set_xlabel('Predicted labels')\n",
        "ax.set_ylabel('Actual labels')\n",
        "ax.set_title('Confusion Matrix of model on MNIST')\n",
        "ax.xaxis.set_ticklabels(confusion_matrix_tags)\n",
        "ax.yaxis.set_ticklabels(confusion_matrix_tags);"
      ]
    },
    {
      "cell_type": "markdown",
      "metadata": {
        "id": "VEFLvXmAUS3j"
      },
      "source": [
        "## Classification report"
      ]
    },
    {
      "cell_type": "markdown",
      "source": [
        "Classification shows accuracy and other evaluation criteria on each class."
      ],
      "metadata": {
        "id": "w52eno5QdAgp"
      }
    },
    {
      "cell_type": "code",
      "execution_count": null,
      "metadata": {
        "colab": {
          "base_uri": "https://localhost:8080/"
        },
        "id": "1GXiLba2UQnV",
        "outputId": "803ab4aa-fffa-4fbf-d47a-9d01dcf77adb"
      },
      "outputs": [
        {
          "output_type": "stream",
          "name": "stdout",
          "text": [
            "              precision    recall  f1-score   support\n",
            "\n",
            "           0       0.99      0.99      0.99       980\n",
            "           1       1.00      1.00      1.00      1135\n",
            "           2       0.99      0.99      0.99      1032\n",
            "           3       0.97      0.99      0.98      1010\n",
            "           4       1.00      0.98      0.99       982\n",
            "           5       0.97      0.99      0.98       892\n",
            "           6       1.00      0.97      0.99       958\n",
            "           7       0.98      0.99      0.98      1028\n",
            "           8       0.99      0.96      0.98       974\n",
            "           9       0.98      0.98      0.98      1009\n",
            "\n",
            "    accuracy                           0.99     10000\n",
            "   macro avg       0.99      0.99      0.99     10000\n",
            "weighted avg       0.99      0.99      0.99     10000\n",
            "\n"
          ]
        }
      ],
      "source": [
        "print(classification_report(y_actual_test, y_pred_test))"
      ]
    },
    {
      "cell_type": "code",
      "execution_count": null,
      "metadata": {
        "id": "AajVDaBu5LoL"
      },
      "outputs": [],
      "source": [
        "torch.save(model,f'/content/drive/MyDrive/Task/MNIST_model/model_mnist_{str_date_time}')"
      ]
    },
    {
      "cell_type": "code",
      "source": [
        "print(f'name of last model : model_mnist_{str_date_time}')"
      ],
      "metadata": {
        "colab": {
          "base_uri": "https://localhost:8080/"
        },
        "id": "oqz70FISBszs",
        "outputId": "16c12dd1-077c-43d5-d3b1-81b2f4cacd12"
      },
      "execution_count": null,
      "outputs": [
        {
          "output_type": "stream",
          "name": "stdout",
          "text": [
            "name of last model : model_mnist_20230427-081533\n"
          ]
        }
      ]
    },
    {
      "cell_type": "markdown",
      "metadata": {
        "id": "4AejD3hKKA0F"
      },
      "source": [
        "# 2. Attack to Classifier"
      ]
    },
    {
      "cell_type": "markdown",
      "source": [
        "In this phase we should load our trained model and test it on attacked dataset to show its accuracy . We will define two attack functions (fgsm and pgd). "
      ],
      "metadata": {
        "id": "XySm-DR4dYHT"
      }
    },
    {
      "cell_type": "markdown",
      "source": [
        "## Load the trained model"
      ],
      "metadata": {
        "id": "NJIUpMDTpVa4"
      }
    },
    {
      "cell_type": "code",
      "execution_count": null,
      "metadata": {
        "id": "vRdjIDXMsu7q"
      },
      "outputs": [],
      "source": [
        "import torch\n",
        "from torchvision import datasets, transforms"
      ]
    },
    {
      "cell_type": "code",
      "source": [
        "device = torch.device('cuda' if torch.cuda.is_available() else 'cpu')\n",
        "device"
      ],
      "metadata": {
        "colab": {
          "base_uri": "https://localhost:8080/"
        },
        "id": "V2lajWFSCJdG",
        "outputId": "5bb87343-429c-492b-c182-701f98093924"
      },
      "execution_count": null,
      "outputs": [
        {
          "output_type": "execute_result",
          "data": {
            "text/plain": [
              "device(type='cuda')"
            ]
          },
          "metadata": {},
          "execution_count": 5
        }
      ]
    },
    {
      "cell_type": "code",
      "execution_count": null,
      "metadata": {
        "id": "mddoV9OfOv9Q",
        "colab": {
          "base_uri": "https://localhost:8080/"
        },
        "outputId": "a1fe8617-9edb-47d2-8138-ec78a2eceb7f"
      },
      "outputs": [
        {
          "output_type": "execute_result",
          "data": {
            "text/plain": [
              "LeNet(\n",
              "  (conv1): Conv2d(1, 6, kernel_size=(5, 5), stride=(1, 1))\n",
              "  (pool1): MaxPool2d(kernel_size=2, stride=2, padding=0, dilation=1, ceil_mode=False)\n",
              "  (conv2): Conv2d(6, 16, kernel_size=(5, 5), stride=(1, 1))\n",
              "  (pool2): MaxPool2d(kernel_size=2, stride=2, padding=0, dilation=1, ceil_mode=False)\n",
              "  (fc1): Linear(in_features=256, out_features=120, bias=True)\n",
              "  (fc2): Linear(in_features=120, out_features=84, bias=True)\n",
              "  (fc3): Linear(in_features=84, out_features=10, bias=True)\n",
              ")"
            ]
          },
          "metadata": {},
          "execution_count": 8
        }
      ],
      "source": [
        "# Load the trained model\n",
        "model = LeNet()\n",
        "model = torch.load('/content/drive/MyDrive/Task/MNIST_model/model_mnist_20230427-081533')\n",
        "model.to(device)"
      ]
    },
    {
      "cell_type": "markdown",
      "source": [
        "## Load MNIST test dataset"
      ],
      "metadata": {
        "id": "ZqnXVA7-pevu"
      }
    },
    {
      "cell_type": "code",
      "execution_count": null,
      "metadata": {
        "id": "dTtCQ_T_tcuO",
        "outputId": "8cb3619c-5cbe-4987-b3fe-7ec75c5c90bb",
        "colab": {
          "base_uri": "https://localhost:8080/"
        }
      },
      "outputs": [
        {
          "output_type": "stream",
          "name": "stdout",
          "text": [
            "Downloading http://yann.lecun.com/exdb/mnist/train-images-idx3-ubyte.gz\n",
            "Downloading http://yann.lecun.com/exdb/mnist/train-images-idx3-ubyte.gz to data/MNIST/raw/train-images-idx3-ubyte.gz\n"
          ]
        },
        {
          "output_type": "stream",
          "name": "stderr",
          "text": [
            "100%|██████████| 9912422/9912422 [00:00<00:00, 71404153.90it/s]\n"
          ]
        },
        {
          "output_type": "stream",
          "name": "stdout",
          "text": [
            "Extracting data/MNIST/raw/train-images-idx3-ubyte.gz to data/MNIST/raw\n",
            "\n",
            "Downloading http://yann.lecun.com/exdb/mnist/train-labels-idx1-ubyte.gz\n",
            "Downloading http://yann.lecun.com/exdb/mnist/train-labels-idx1-ubyte.gz to data/MNIST/raw/train-labels-idx1-ubyte.gz\n"
          ]
        },
        {
          "output_type": "stream",
          "name": "stderr",
          "text": [
            "100%|██████████| 28881/28881 [00:00<00:00, 90942713.08it/s]\n"
          ]
        },
        {
          "output_type": "stream",
          "name": "stdout",
          "text": [
            "Extracting data/MNIST/raw/train-labels-idx1-ubyte.gz to data/MNIST/raw\n",
            "\n",
            "Downloading http://yann.lecun.com/exdb/mnist/t10k-images-idx3-ubyte.gz\n",
            "Downloading http://yann.lecun.com/exdb/mnist/t10k-images-idx3-ubyte.gz to data/MNIST/raw/t10k-images-idx3-ubyte.gz\n"
          ]
        },
        {
          "output_type": "stream",
          "name": "stderr",
          "text": [
            "100%|██████████| 1648877/1648877 [00:00<00:00, 21877355.18it/s]\n"
          ]
        },
        {
          "output_type": "stream",
          "name": "stdout",
          "text": [
            "Extracting data/MNIST/raw/t10k-images-idx3-ubyte.gz to data/MNIST/raw\n",
            "\n",
            "Downloading http://yann.lecun.com/exdb/mnist/t10k-labels-idx1-ubyte.gz\n",
            "Downloading http://yann.lecun.com/exdb/mnist/t10k-labels-idx1-ubyte.gz to data/MNIST/raw/t10k-labels-idx1-ubyte.gz\n"
          ]
        },
        {
          "output_type": "stream",
          "name": "stderr",
          "text": [
            "100%|██████████| 4542/4542 [00:00<00:00, 20506489.52it/s]"
          ]
        },
        {
          "output_type": "stream",
          "name": "stdout",
          "text": [
            "Extracting data/MNIST/raw/t10k-labels-idx1-ubyte.gz to data/MNIST/raw\n",
            "\n"
          ]
        },
        {
          "output_type": "stream",
          "name": "stderr",
          "text": [
            "\n"
          ]
        }
      ],
      "source": [
        "# Load the test data\n",
        "test_data = datasets.MNIST('data', train=False, download=True, transform=transforms.ToTensor())\n",
        "test_loader = torch.utils.data.DataLoader(test_data, batch_size=1, shuffle=False, pin_memory=True)"
      ]
    },
    {
      "cell_type": "code",
      "execution_count": null,
      "metadata": {
        "colab": {
          "base_uri": "https://localhost:8080/"
        },
        "id": "XH4EjUrCth1Y",
        "outputId": "871c8e63-8c63-4cd3-8541-35b5a77b9dab"
      },
      "outputs": [
        {
          "output_type": "stream",
          "name": "stdout",
          "text": [
            "length of test_dataset is : 10000 and length of test_loader is : 10000\n"
          ]
        }
      ],
      "source": [
        "print(f'length of test_dataset is : {len(test_data)} and length of test_loader is : {len(test_loader)}')"
      ]
    },
    {
      "cell_type": "markdown",
      "source": [
        "## Define attack algorithms"
      ],
      "metadata": {
        "id": "0-6X3QBVpic5"
      }
    },
    {
      "cell_type": "markdown",
      "source": [
        "Let's define attack algorithms."
      ],
      "metadata": {
        "id": "9UH6zy4cpErW"
      }
    },
    {
      "cell_type": "code",
      "source": [
        "def fgsm_attack(model, data, target, epsilon):\n",
        "    # Create a new tensor that is a leaf variable with the same values as data\n",
        "    input_data = data.clone().detach().requires_grad_(True)\n",
        "\n",
        "    # Forward pass\n",
        "    output = model(input_data)\n",
        "    init_pred = output.max(1, keepdim=True)[1]\n",
        "\n",
        "    # If the initial prediction is incorrect, do not bother with the attack\n",
        "    if init_pred.item() != target.item():\n",
        "        return input_data.detach()\n",
        "\n",
        "    # Calculate the loss\n",
        "    loss = torch.nn.functional.nll_loss(output, target)\n",
        "\n",
        "    # Backward pass\n",
        "    model.zero_grad()\n",
        "    loss.backward()\n",
        "\n",
        "    # Collect the gradient of the loss with respect to the input\n",
        "    data_grad = input_data.grad.data\n",
        "\n",
        "    # Call sign on the gradients\n",
        "    sign_data_grad = data_grad.sign()\n",
        "\n",
        "    # Create the perturbed image by adjusting each pixel of the input image\n",
        "    perturbed_data = data + epsilon * sign_data_grad.clamp(min=-1, max=1)\n",
        "\n",
        "    # Clip the perturbation to be within the valid image range\n",
        "    perturbed_data = torch.clamp(perturbed_data, 0, 1)\n",
        "\n",
        "    return perturbed_data.detach()\n",
        "\n",
        "\n",
        "\n",
        "def pgd_attack(model, images, labels, epsilon, alpha, num_iter):\n",
        "    # Generate a random initial perturbation within the epsilon range\n",
        "    delta = torch.rand_like(images, requires_grad=True)\n",
        "    delta.data = delta.data * 2 * epsilon - epsilon\n",
        "\n",
        "    # Define the range for pixel clipping\n",
        "    clip_min = 0\n",
        "    clip_max = 1\n",
        "\n",
        "    # PGD attack loop\n",
        "    for i in range(num_iter):\n",
        "        # Calculate the gradient of the loss with respect to the perturbation\n",
        "        loss = torch.nn.functional.nll_loss(model(images + delta), labels)\n",
        "        loss.backward()\n",
        "        grad = delta.grad.detach()\n",
        "\n",
        "        # Project the perturbation onto the epsilon L-infinity ball\n",
        "        delta.data = delta.data + alpha * torch.sign(grad)\n",
        "        delta.data = torch.max(torch.min(delta.data, images + epsilon - clip_min), images - epsilon - clip_max)\n",
        "        delta.data = torch.clamp(delta.data, clip_min - images, clip_max - images)\n",
        "\n",
        "        # Reset the gradients\n",
        "        delta.grad.zero_()\n",
        "\n",
        "    # Create the perturbed image by adding the perturbation to the input image\n",
        "    perturbed_image = torch.clamp(images + delta.detach(), clip_min, clip_max)\n",
        "\n",
        "    return perturbed_image\n"
      ],
      "metadata": {
        "id": "MJnCFxqaJtma"
      },
      "execution_count": null,
      "outputs": []
    },
    {
      "cell_type": "markdown",
      "source": [
        "## Define accuracy function"
      ],
      "metadata": {
        "id": "9N8dl8hkpl_P"
      }
    },
    {
      "cell_type": "markdown",
      "source": [
        "Let's define accuracy function."
      ],
      "metadata": {
        "id": "pD_BIXOApK03"
      }
    },
    {
      "cell_type": "code",
      "execution_count": null,
      "metadata": {
        "id": "slhlpaHitsfu"
      },
      "outputs": [],
      "source": [
        "# evaluation of model \n",
        "def calculate_accuracy(model, dataloader):\n",
        "  model.eval()  # set the model to evaluation mode\n",
        "  correct = 0\n",
        "  total = 0\n",
        "  with torch.no_grad():\n",
        "    for images, labels in dataloader:\n",
        "      images = images.to(device)\n",
        "      labels = labels.to(device)\n",
        "      outputs = model(images)\n",
        "      _, predicted = torch.max(outputs.data, 1)\n",
        "      total += labels.size(0)\n",
        "      correct += (predicted == labels).sum().item()\n",
        "\n",
        "  accuracy = 100 * correct / total\n",
        "  return accuracy"
      ]
    },
    {
      "cell_type": "markdown",
      "source": [
        "## Calculate accuracy before and after applying attack "
      ],
      "metadata": {
        "id": "5c_Eb3Rupq0p"
      }
    },
    {
      "cell_type": "markdown",
      "source": [
        "In this secton we perform different attack functions on clean test set and compare the evalluation of model on clean testset and attacked testset. As we can see, the performance of model on attacked testset is lower than clean testset."
      ],
      "metadata": {
        "id": "nNC4vYy0dwzg"
      }
    },
    {
      "cell_type": "code",
      "execution_count": null,
      "metadata": {
        "colab": {
          "base_uri": "https://localhost:8080/"
        },
        "id": "K8kAS2KisrER",
        "outputId": "f837bdbc-ef44-4382-e615-ef58f5b56e6e"
      },
      "outputs": [
        {
          "output_type": "stream",
          "name": "stdout",
          "text": [
            "Accuracy of model on clean testset: 98.62%\n",
            "Accuracy of model on attacked testset (FGSM attack): 80.00%\n",
            "Accuracy of model on attacked testset (PGD attack): 0.00%\n"
          ]
        }
      ],
      "source": [
        "# Evaluate the model accuracy on the clean test data\n",
        "clean_accuracy = calculate_accuracy(model, test_loader)\n",
        "print(f'Accuracy of model on clean testset: {clean_accuracy:.2f}%')\n",
        "\n",
        "\n",
        "######################################################### FGSM attack ######################################################### \n",
        "# Generate adversarial examples using the FGSM attack\n",
        "epsilon = 0.1\n",
        "\n",
        "adv_examples = []\n",
        "for images, labels in test_loader:\n",
        "    images = images.to(device)\n",
        "    labels = labels.to(device)\n",
        "    adv_images = fgsm_attack(model, images, labels, epsilon)\n",
        "    adv_examples.append((adv_images, labels))\n",
        "\n",
        "# Evaluate the model accuracy on the adversarial test data\n",
        "adversarial_accuracy = calculate_accuracy(model, adv_examples)\n",
        "print(f'Accuracy of model on attacked testset (FGSM attack): {adversarial_accuracy:.2f}%')\n",
        "\n",
        "\n",
        "######################################################### PGD attack ######################################################### \n",
        "# Generate adversarial examples using the PGD attack\n",
        "epsilon=0.3\n",
        "alpha=0.01\n",
        "num_iter=40\n",
        "\n",
        "adv_examples = []\n",
        "for images, labels in test_loader:\n",
        "    images = images.to(device)\n",
        "    labels = labels.to(device)\n",
        "    adv_images = pgd_attack(model, images, labels, epsilon, alpha, num_iter)\n",
        "    adv_examples.append((adv_images, labels))\n",
        "\n",
        "# Evaluate the model accuracy on the adversarial test data\n",
        "adversarial_accuracy = calculate_accuracy(model, adv_examples)\n",
        "print(f'Accuracy of model on attacked testset (PGD attack): {adversarial_accuracy:.2f}%')"
      ]
    },
    {
      "cell_type": "markdown",
      "source": [
        "## Visualize images before and after attack"
      ],
      "metadata": {
        "id": "TEVyMdI8UWUo"
      }
    },
    {
      "cell_type": "markdown",
      "source": [
        "### PGD attack"
      ],
      "metadata": {
        "id": "haFcqrQQVhuQ"
      }
    },
    {
      "cell_type": "code",
      "source": [
        "def visualise_PGD_adversarial_examples(model, x, y, epsilon, alpha, num_iter):\n",
        "    x = x.unsqueeze(0)\n",
        "    y = torch.tensor(y, dtype=torch.int64)\n",
        "    y = y.unsqueeze(0)\n",
        "\n",
        "    x = x.to(device)\n",
        "    y = y.to(device)\n",
        "\n",
        "    x_adv_l2 = pgd_attack(model, x, y, epsilon, alpha, num_iter)\n",
        "    \n",
        "    y_pred = model(x)\n",
        "    y_pred_l2 = model(x_adv_l2)\n",
        "    \n",
        "    fig, axes = plt.subplots(1, 2, figsize=(8,3))\n",
        "    \n",
        "    axes[0].imshow(x[0, 0].cpu().numpy(), cmap='gray')\n",
        "    axes[0].set_title(\n",
        "        f'Natural, '\n",
        "        f'P({ y_pred.argmax(dim=1).item()}) = '\n",
        "        f'{np.round(y_pred.softmax(dim=1)[0, y_pred.argmax(dim=1).item()].item(), 3)}')\n",
        "    axes[0].set_xticks([])\n",
        "    axes[0].set_yticks([])\n",
        "    \n",
        "    axes[1].imshow(x_adv_l2[0, 0].cpu().numpy(), cmap='gray')\n",
        "    axes[1].set_title(\n",
        "        f'$L^2$ adversary, '\n",
        "        f'eps={epsilon}, '\n",
        "        f'P({y_pred_l2.argmax(dim=1).item()}) = '\n",
        "        f'{np.round(y_pred_l2.softmax(dim=1)[0, y_pred_l2.argmax(dim=1).item()].item(), 3)}')\n",
        "    axes[1].set_xticks([])\n",
        "    axes[1].set_yticks([])\n",
        "    \n",
        "    plt.show()"
      ],
      "metadata": {
        "id": "WfsCcQfTzhoO"
      },
      "execution_count": null,
      "outputs": []
    },
    {
      "cell_type": "code",
      "source": [
        "epsilon=0.3\n",
        "alpha=0.01\n",
        "num_iter=40\n",
        "\n",
        "visualise_PGD_adversarial_examples(model, *test_data[0], epsilon, alpha, num_iter)\n",
        "visualise_PGD_adversarial_examples(model, *test_data[10], epsilon, alpha, num_iter)\n",
        "visualise_PGD_adversarial_examples(model, *test_data[20], epsilon, alpha, num_iter)\n",
        "visualise_PGD_adversarial_examples(model, *test_data[30], epsilon, alpha, num_iter)"
      ],
      "metadata": {
        "colab": {
          "base_uri": "https://localhost:8080/",
          "height": 1000
        },
        "id": "K147TJ9q0Nsk",
        "outputId": "9cd6ab7b-4c61-45d5-8046-9056b7c722a6"
      },
      "execution_count": null,
      "outputs": [
        {
          "output_type": "display_data",
          "data": {
            "text/plain": [
              "<Figure size 800x300 with 2 Axes>"
            ],
            "image/png": "[encoded data removed]"
          },
          "metadata": {}
        },
        {
          "output_type": "display_data",
          "data": {
            "text/plain": [
              "<Figure size 800x300 with 2 Axes>"
            ],
            "image/png": "[encoded data removed]"
          },
          "metadata": {}
        },
        {
          "output_type": "display_data",
          "data": {
            "text/plain": [
              "<Figure size 800x300 with 2 Axes>"
            ],
            "image/png": "[encoded data removed]"
          },
          "metadata": {}
        },
        {
          "output_type": "display_data",
          "data": {
            "text/plain": [
              "<Figure size 800x300 with 2 Axes>"
            ],
            "image/png": "[encoded data removed]"
          },
          "metadata": {}
        }
      ]
    },
    {
      "cell_type": "code",
      "source": [
        "epsilon= 0.6\n",
        "alpha=0.01\n",
        "num_iter= 40\n",
        "\n",
        "visualise_PGD_adversarial_examples(model, *test_data[0], epsilon, alpha, num_iter)\n",
        "visualise_PGD_adversarial_examples(model, *test_data[10], epsilon, alpha, num_iter)\n",
        "visualise_PGD_adversarial_examples(model, *test_data[20], epsilon, alpha, num_iter)\n",
        "visualise_PGD_adversarial_examples(model, *test_data[30], epsilon, alpha, num_iter)"
      ],
      "metadata": {
        "colab": {
          "base_uri": "https://localhost:8080/",
          "height": 1000
        },
        "id": "kF4OshGuTyEM",
        "outputId": "75b35270-76cc-4467-ef87-02cca93ecf3e"
      },
      "execution_count": null,
      "outputs": [
        {
          "output_type": "display_data",
          "data": {
            "text/plain": [
              "<Figure size 800x300 with 2 Axes>"
            ],
            "image/png": "[encoded data removed]"
          },
          "metadata": {}
        },
        {
          "output_type": "display_data",
          "data": {
            "text/plain": [
              "<Figure size 800x300 with 2 Axes>"
            ],
            "image/png": "[encoded data removed]"
          },
          "metadata": {}
        },
        {
          "output_type": "display_data",
          "data": {
            "text/plain": [
              "<Figure size 800x300 with 2 Axes>"
            ],
            "image/png": "[encoded data removed]"
          },
          "metadata": {}
        },
        {
          "output_type": "display_data",
          "data": {
            "text/plain": [
              "<Figure size 800x300 with 2 Axes>"
            ],
            "image/png": "[encoded data removed]"
          },
          "metadata": {}
        }
      ]
    },
    {
      "cell_type": "code",
      "source": [
        "epsilon= 2\n",
        "alpha=0.1\n",
        "num_iter= 120\n",
        "\n",
        "visualise_PGD_adversarial_examples(model, *test_data[0], epsilon, alpha, num_iter)\n",
        "visualise_PGD_adversarial_examples(model, *test_data[10], epsilon, alpha, num_iter)\n",
        "visualise_PGD_adversarial_examples(model, *test_data[20], epsilon, alpha, num_iter)\n",
        "visualise_PGD_adversarial_examples(model, *test_data[30], epsilon, alpha, num_iter)"
      ],
      "metadata": {
        "colab": {
          "base_uri": "https://localhost:8080/",
          "height": 1000
        },
        "id": "W2CxanHKTAu0",
        "outputId": "12fc71bb-02c3-4ed7-9094-71a629b14138"
      },
      "execution_count": null,
      "outputs": [
        {
          "output_type": "display_data",
          "data": {
            "text/plain": [
              "<Figure size 800x300 with 2 Axes>"
            ],
            "image/png": "[encoded data removed]"
          },
          "metadata": {}
        },
        {
          "output_type": "display_data",
          "data": {
            "text/plain": [
              "<Figure size 800x300 with 2 Axes>"
            ],
            "image/png": "[encoded data removed]"
          },
          "metadata": {}
        },
        {
          "output_type": "display_data",
          "data": {
            "text/plain": [
              "<Figure size 800x300 with 2 Axes>"
            ],
            "image/png": "[encoded data removed]"
          },
          "metadata": {}
        },
        {
          "output_type": "display_data",
          "data": {
            "text/plain": [
              "<Figure size 800x300 with 2 Axes>"
            ],
            "image/png": "[encoded data removed]"
          },
          "metadata": {}
        }
      ]
    },
    {
      "cell_type": "markdown",
      "source": [
        "### FGSM attack"
      ],
      "metadata": {
        "id": "yVNDmQyaVgPB"
      }
    },
    {
      "cell_type": "code",
      "source": [
        "def visualise_FGSM_adversarial_examples(model, x, y, epsilon):\n",
        "    x = x.unsqueeze(0)\n",
        "    y = torch.tensor(y, dtype=torch.int64)\n",
        "    y = y.unsqueeze(0)\n",
        "\n",
        "    x = x.to(device)\n",
        "    y = y.to(device)\n",
        "\n",
        "    x_adv_l2 = fgsm_attack(model, x, y, epsilon)\n",
        "    \n",
        "    y_pred = model(x)\n",
        "    y_pred_l2 = model(x_adv_l2)\n",
        "    \n",
        "    fig, axes = plt.subplots(1, 2, figsize=(8,3))\n",
        "    \n",
        "    axes[0].imshow(x[0, 0].cpu().numpy(), cmap='gray')\n",
        "    axes[0].set_title(\n",
        "        f'Natural, '\n",
        "        f'P({ y_pred.argmax(dim=1).item()}) = '\n",
        "        f'{np.round(y_pred.softmax(dim=1)[0, y_pred.argmax(dim=1).item()].item(), 3)}')\n",
        "    axes[0].set_xticks([])\n",
        "    axes[0].set_yticks([])\n",
        "    \n",
        "    axes[1].imshow(x_adv_l2[0, 0].cpu().numpy(), cmap='gray')\n",
        "    axes[1].set_title(\n",
        "        f'FGSM adversary, '\n",
        "        f'eps={epsilon}, '\n",
        "        f'P({y_pred_l2.argmax(dim=1).item()}) = '\n",
        "        f'{np.round(y_pred_l2.softmax(dim=1)[0, y_pred_l2.argmax(dim=1).item()].item(), 3)}')\n",
        "    axes[1].set_xticks([])\n",
        "    axes[1].set_yticks([])\n",
        "    \n",
        "    plt.show()"
      ],
      "metadata": {
        "id": "VrpoVpV_Uk7c"
      },
      "execution_count": null,
      "outputs": []
    },
    {
      "cell_type": "code",
      "source": [
        "epsilon=0.1\n",
        "\n",
        "visualise_FGSM_adversarial_examples(model, *test_data[0], epsilon)\n",
        "visualise_FGSM_adversarial_examples(model, *test_data[10], epsilon)\n",
        "visualise_FGSM_adversarial_examples(model, *test_data[20], epsilon)\n",
        "visualise_FGSM_adversarial_examples(model, *test_data[30], epsilon)"
      ],
      "metadata": {
        "colab": {
          "base_uri": "https://localhost:8080/",
          "height": 1000
        },
        "id": "jO3npQfsVIGU",
        "outputId": "1a82dc1e-9f4e-487b-fdb7-e30914994b58"
      },
      "execution_count": null,
      "outputs": [
        {
          "output_type": "display_data",
          "data": {
            "text/plain": [
              "<Figure size 800x300 with 2 Axes>"
            ],
            "image/png": "[encoded data removed]"
          },
          "metadata": {}
        },
        {
          "output_type": "display_data",
          "data": {
            "text/plain": [
              "<Figure size 800x300 with 2 Axes>"
            ],
            "image/png": "[encoded data removed]"
          },
          "metadata": {}
        },
        {
          "output_type": "display_data",
          "data": {
            "text/plain": [
              "<Figure size 800x300 with 2 Axes>"
            ],
            "image/png": "[encoded data removed]"
          },
          "metadata": {}
        },
        {
          "output_type": "display_data",
          "data": {
            "text/plain": [
              "<Figure size 800x300 with 2 Axes>"
            ],
            "image/png": "[encoded data removed]"
          },
          "metadata": {}
        }
      ]
    },
    {
      "cell_type": "code",
      "source": [
        "epsilon=0.3\n",
        "\n",
        "visualise_FGSM_adversarial_examples(model, *test_data[0], epsilon)\n",
        "visualise_FGSM_adversarial_examples(model, *test_data[10], epsilon)\n",
        "visualise_FGSM_adversarial_examples(model, *test_data[20], epsilon)\n",
        "visualise_FGSM_adversarial_examples(model, *test_data[30], epsilon)"
      ],
      "metadata": {
        "colab": {
          "base_uri": "https://localhost:8080/",
          "height": 1000
        },
        "outputId": "464f0639-bb33-43df-e856-313334660a5a",
        "id": "Bmyda3xPUk7e"
      },
      "execution_count": null,
      "outputs": [
        {
          "output_type": "display_data",
          "data": {
            "text/plain": [
              "<Figure size 800x300 with 2 Axes>"
            ],
            "image/png": "[encoded data removed]"
          },
          "metadata": {}
        },
        {
          "output_type": "display_data",
          "data": {
            "text/plain": [
              "<Figure size 800x300 with 2 Axes>"
            ],
            "image/png": "[encoded data removed]"
          },
          "metadata": {}
        },
        {
          "output_type": "display_data",
          "data": {
            "text/plain": [
              "<Figure size 800x300 with 2 Axes>"
            ],
            "image/png": "[encoded data removed]"
          },
          "metadata": {}
        },
        {
          "output_type": "display_data",
          "data": {
            "text/plain": [
              "<Figure size 800x300 with 2 Axes>"
            ],
            "image/png": "[encoded data removed]"
          },
          "metadata": {}
        }
      ]
    },
    {
      "cell_type": "code",
      "source": [
        "epsilon=2\n",
        "\n",
        "visualise_FGSM_adversarial_examples(model, *test_data[0], epsilon)\n",
        "visualise_FGSM_adversarial_examples(model, *test_data[10], epsilon)\n",
        "visualise_FGSM_adversarial_examples(model, *test_data[20], epsilon)\n",
        "visualise_FGSM_adversarial_examples(model, *test_data[30], epsilon)"
      ],
      "metadata": {
        "colab": {
          "base_uri": "https://localhost:8080/",
          "height": 1000
        },
        "id": "NoQRt2UlUkgb",
        "outputId": "5c35f395-4961-4acf-c5a8-3ddc5eface28"
      },
      "execution_count": null,
      "outputs": [
        {
          "output_type": "display_data",
          "data": {
            "text/plain": [
              "<Figure size 800x300 with 2 Axes>"
            ],
            "image/png": "[encoded data removed]"
          },
          "metadata": {}
        },
        {
          "output_type": "display_data",
          "data": {
            "text/plain": [
              "<Figure size 800x300 with 2 Axes>"
            ],
            "image/png": "[encoded data removed]"
          },
          "metadata": {}
        },
        {
          "output_type": "display_data",
          "data": {
            "text/plain": [
              "<Figure size 800x300 with 2 Axes>"
            ],
            "image/png": "[encoded data removed]"
          },
          "metadata": {}
        },
        {
          "output_type": "display_data",
          "data": {
            "text/plain": [
              "<Figure size 800x300 with 2 Axes>"
            ],
            "image/png": "[encoded data removed]"
          },
          "metadata": {}
        }
      ]
    },
    {
      "cell_type": "markdown",
      "source": [
        "## Evaluate model against adversary"
      ],
      "metadata": {
        "id": "UbQnQH8WtIv8"
      }
    },
    {
      "cell_type": "code",
      "source": [
        "!pip install -q olympic"
      ],
      "metadata": {
        "id": "epZwlrUfJv_0"
      },
      "execution_count": null,
      "outputs": []
    },
    {
      "cell_type": "markdown",
      "source": [
        "Olympic implements a Keras-like API for PyTorch."
      ],
      "metadata": {
        "id": "oSvxrkVVbZsr"
      }
    },
    {
      "cell_type": "code",
      "source": [
        "import olympic\n",
        "\n",
        "def evaluate_against_PGD_adversary(model, epsilon, alpha, num_iter):\n",
        "    total = 0\n",
        "    acc = 0\n",
        "    for x, y in test_loader:\n",
        "        total += x.size(0)\n",
        "        \n",
        "\n",
        "        x_adv = pgd_attack(model, x.to(device), y.to(device), epsilon, alpha, num_iter)\n",
        "\n",
        "        \n",
        "        y_pred = model(x_adv)\n",
        "\n",
        "        acc += olympic.metrics.accuracy(y.to(device), y_pred) * x.size(0)\n",
        "\n",
        "    return (acc/total) * 100\n",
        "\n",
        "def evaluate_against_FGSM_adversary(model, epsilon):\n",
        "    total = 0\n",
        "    acc = 0\n",
        "    for x, y in test_loader:\n",
        "        total += x.size(0)\n",
        "        \n",
        "\n",
        "        x_adv = fgsm_attack(model, x.to(device), y.to(device), epsilon)\n",
        "\n",
        "        \n",
        "        y_pred = model(x_adv)\n",
        "\n",
        "        acc += olympic.metrics.accuracy(y.to(device), y_pred) * x.size(0)\n",
        "\n",
        "    return (acc/total) * 100\n"
      ],
      "metadata": {
        "id": "lujxPgPhIaqv"
      },
      "execution_count": null,
      "outputs": []
    },
    {
      "cell_type": "code",
      "source": [
        "fgsm_attack_range = [0, .05, .1, .15, .2, .25, .3]\n",
        "fgsm_acc = []\n",
        "\n",
        "for eps in fgsm_attack_range:\n",
        "  acc = evaluate_against_FGSM_adversary(model, epsilon=eps)\n",
        "  fgsm_acc.append(acc)\n",
        "  print(f'Epsilon: {eps:.2f} => Test accuracy: {acc:.2f}')"
      ],
      "metadata": {
        "id": "jLe_ico6Ixhy",
        "colab": {
          "base_uri": "https://localhost:8080/"
        },
        "outputId": "120f31ca-ff0a-4ac8-9ab4-810191f55376"
      },
      "execution_count": null,
      "outputs": [
        {
          "output_type": "stream",
          "name": "stdout",
          "text": [
            "Epsilon: 0.00 => Test accuracy: 98.62\n",
            "Epsilon: 0.05 => Test accuracy: 93.70\n",
            "Epsilon: 0.10 => Test accuracy: 80.00\n",
            "Epsilon: 0.15 => Test accuracy: 56.07\n",
            "Epsilon: 0.20 => Test accuracy: 28.58\n",
            "Epsilon: 0.25 => Test accuracy: 11.31\n",
            "Epsilon: 0.30 => Test accuracy: 3.79\n"
          ]
        }
      ]
    },
    {
      "cell_type": "code",
      "source": [
        "alpha=0.1\n",
        "num_iter= 40\n",
        "pgd_attack_range = np.arange(0.0, 0.52, 0.1)\n",
        "pgd_acc = []\n",
        "\n",
        "for eps in pgd_attack_range:\n",
        "  acc = evaluate_against_PGD_adversary(model, eps, alpha, num_iter)\n",
        "  pgd_acc.append(acc)\n",
        "  print(f'Epsilon: {eps:.2f} => Test accuracy: {acc:.2f}')"
      ],
      "metadata": {
        "id": "Y3Edgd752adA",
        "colab": {
          "base_uri": "https://localhost:8080/"
        },
        "outputId": "6d547d1f-c327-4e17-af79-180492fc8c31"
      },
      "execution_count": null,
      "outputs": [
        {
          "output_type": "stream",
          "name": "stdout",
          "text": [
            "Epsilon: 0.00 => Test accuracy: 77.24\n",
            "Epsilon: 0.10 => Test accuracy: 22.12\n",
            "Epsilon: 0.20 => Test accuracy: 0.25\n",
            "Epsilon: 0.30 => Test accuracy: 0.00\n",
            "Epsilon: 0.40 => Test accuracy: 0.00\n",
            "Epsilon: 0.50 => Test accuracy: 0.00\n"
          ]
        }
      ]
    },
    {
      "cell_type": "code",
      "source": [
        "with plt.style.context('ggplot'):\n",
        "    fig, axes = plt.subplots(1, 2, figsize=(15,5))\n",
        "    plt.figure(figsize=(6,2))\n",
        "    \n",
        "    axes[0].set_title('PGD adversary')\n",
        "    axes[0].plot(pgd_attack_range, pgd_acc)\n",
        "    axes[0].set_ylabel('Accuracy')\n",
        "    axes[0].set_xlabel('Epsilon')\n",
        "    axes[0].set_ylim((0,100))\n",
        "    \n",
        "    axes[1].set_title('FGSM adversary')\n",
        "    axes[1].plot(fgsm_attack_range, fgsm_acc)\n",
        "    axes[1].set_ylabel('Accuracy')\n",
        "    axes[1].set_xlabel('Epsilon')\n",
        "    axes[1].set_ylim((0,100))\n",
        "    \n",
        "    plt.show()"
      ],
      "metadata": {
        "colab": {
          "base_uri": "https://localhost:8080/",
          "height": 510
        },
        "id": "9pZaSNytI0Iz",
        "outputId": "ed1f9baa-f01f-4f73-edda-8e3ae5675524"
      },
      "execution_count": null,
      "outputs": [
        {
          "output_type": "display_data",
          "data": {
            "text/plain": [
              "<Figure size 1500x500 with 2 Axes>"
            ],
            "image/png": "[encoded data removed]"
          },
          "metadata": {}
        },
        {
          "output_type": "display_data",
          "data": {
            "text/plain": [
              "<Figure size 600x200 with 0 Axes>"
            ]
          },
          "metadata": {}
        }
      ]
    },
    {
      "cell_type": "markdown",
      "source": [
        "# 3. Defence against attak"
      ],
      "metadata": {
        "id": "QFklbbE5teap"
      }
    },
    {
      "cell_type": "markdown",
      "source": [
        "In this phase we should load our trained model and evaluate its performance on protected testset (First we attack the testset and after that we protect them using compression)."
      ],
      "metadata": {
        "id": "mQhPwRN3eaWY"
      }
    },
    {
      "cell_type": "markdown",
      "source": [
        "## Load the trained model"
      ],
      "metadata": {
        "id": "3esQkO7ruukR"
      }
    },
    {
      "cell_type": "code",
      "source": [
        "import numpy as np\n",
        "import torch\n",
        "import torchvision.datasets as datasets\n",
        "import torchvision.transforms as transforms\n",
        "import torch.nn as nn\n",
        "import torch.optim as optim\n",
        "import matplotlib.pyplot as plt\n",
        "import cv2"
      ],
      "metadata": {
        "id": "7ua2eR6duh80"
      },
      "execution_count": null,
      "outputs": []
    },
    {
      "cell_type": "code",
      "source": [
        "# Load the trained model\n",
        "model = LeNet()\n",
        "model = torch.load('/content/drive/MyDrive/Task/MNIST_model/model_mnist_20230423-142700')\n",
        "model.to(device)"
      ],
      "metadata": {
        "id": "xbIXsE5eW8ZF",
        "colab": {
          "base_uri": "https://localhost:8080/"
        },
        "outputId": "29bb530e-9cf3-4e10-ab39-ded71922d3d0"
      },
      "execution_count": null,
      "outputs": [
        {
          "output_type": "execute_result",
          "data": {
            "text/plain": [
              "LeNet(\n",
              "  (conv1): Conv2d(1, 6, kernel_size=(5, 5), stride=(1, 1))\n",
              "  (pool1): MaxPool2d(kernel_size=2, stride=2, padding=0, dilation=1, ceil_mode=False)\n",
              "  (conv2): Conv2d(6, 16, kernel_size=(5, 5), stride=(1, 1))\n",
              "  (pool2): MaxPool2d(kernel_size=2, stride=2, padding=0, dilation=1, ceil_mode=False)\n",
              "  (fc1): Linear(in_features=256, out_features=120, bias=True)\n",
              "  (fc2): Linear(in_features=120, out_features=84, bias=True)\n",
              "  (fc3): Linear(in_features=84, out_features=10, bias=True)\n",
              ")"
            ]
          },
          "metadata": {},
          "execution_count": 53
        }
      ]
    },
    {
      "cell_type": "markdown",
      "source": [
        "## Load MNIST test dataset"
      ],
      "metadata": {
        "id": "K2DgRqqzuw3C"
      }
    },
    {
      "cell_type": "code",
      "source": [
        "# Load MNIST dataset\n",
        "transform = transforms.Compose([transforms.ToTensor(), transforms.Normalize((0.1307,), (0.3081,))])\n",
        "test_set = datasets.MNIST(root='./data', train=False, download=True, transform=transform)\n",
        "test_loader = torch.utils.data.DataLoader(test_set, batch_size=1, shuffle=False, pin_memory=True)"
      ],
      "metadata": {
        "id": "L7a3QdNyukY8"
      },
      "execution_count": null,
      "outputs": []
    },
    {
      "cell_type": "markdown",
      "source": [
        "## Define defence algorithm (compression algorithm)"
      ],
      "metadata": {
        "id": "bKVhPSoMuy4Z"
      }
    },
    {
      "cell_type": "markdown",
      "source": [
        "In this algorithm we compress image using `cv2`. We first encode the image using qualtiy parameter and after that decode the encoded image, and return this image as compressed image.\n",
        "\n",
        "\n",
        "One of the reasons why image compression can be used as a defense strategy is that it can help to reduce the amount of noise in an image, which can in turn make it more difficult for an attacker to create effective adversarial examples. When an attacker tries to generate adversarial examples, they typically add small perturbations to an image that are often imperceptible to the human eye, but can cause the neural network to misclassify the image. By compressing an image, the perturbations that an attacker adds may be amplified, which can make them more noticeable and less effective.\n",
        "Moreover, compression can remove some high-frequency components in the image, which are often used by attackers to create adversarial examples. Additionally, compression can make the image more robust to transformations such as rotations, translations, and scaling, which can also be used to create adversarial examples.\n"
      ],
      "metadata": {
        "id": "fQBwGKANe6TX"
      }
    },
    {
      "cell_type": "code",
      "source": [
        "def compress(image, quality):\n",
        "    # Define the compression parameters\n",
        "    compression_params = [cv2.IMWRITE_JPEG_QUALITY, quality]\n",
        "\n",
        "    # encode the image\n",
        "    result, compressed_image = cv2.imencode('.jpg', image, compression_params)\n",
        "\n",
        "    # decode the image\n",
        "    decompressed_image = cv2.imdecode(compressed_image, cv2.IMREAD_GRAYSCALE)\n",
        "\n",
        "    return decompressed_image\n"
      ],
      "metadata": {
        "id": "p462ID7zOLDU"
      },
      "execution_count": null,
      "outputs": []
    },
    {
      "cell_type": "markdown",
      "source": [
        "## Define accuracy function"
      ],
      "metadata": {
        "id": "Q9IUyQU0u8oG"
      }
    },
    {
      "cell_type": "code",
      "execution_count": null,
      "metadata": {
        "id": "FXCuVRRbTJ3I"
      },
      "outputs": [],
      "source": [
        "# evaluation of model before applying attack\n",
        "def calculate_compression_accuracy(model, dataloader, quality):\n",
        "  model.eval()  # set the model to evaluation mode\n",
        "  correct = 0\n",
        "  total = 0\n",
        "  with torch.no_grad():\n",
        "    for images, labels in dataloader:\n",
        "      images = images.to(device)\n",
        "      labels = labels.to(device)\n",
        "\n",
        "      images = images.cpu()\n",
        "      compressed_data = np.zeros_like(images.numpy())\n",
        "      for i in range(len(images)):\n",
        "        compressed_data[i][0] = compress(images[i][0].numpy(), quality)\n",
        "      \n",
        "      compressed_data = torch.from_numpy(compressed_data)  \n",
        "      compressed_data = compressed_data.to(device)\n",
        "\n",
        "      outputs = model(compressed_data)\n",
        "      _, predicted = torch.max(outputs.data, 1)\n",
        "      total += labels.size(0)\n",
        "      correct += (predicted == labels).sum().item()\n",
        "\n",
        "  accuracy = 100 * correct / total\n",
        "  return accuracy"
      ]
    },
    {
      "cell_type": "markdown",
      "source": [
        "## Calculate accuracy before and after applying defence "
      ],
      "metadata": {
        "id": "4Pw0jCQ6vIKv"
      }
    },
    {
      "cell_type": "markdown",
      "source": [
        "In this section, we perform defense strategies on both the clean and attacked test sets and compare the evaluation of the model on both sets. As we can see, the performance of the model using the defense function on the clean test set decreased because some important features of the images were removed. On the other hand, the performance of the model on the protected attacked test set (using FGSM and PDG attack strategies) increased because some details of the images were removed, which may have been part of the attack performed by the attacker."
      ],
      "metadata": {
        "id": "oH-MglDPiEFY"
      }
    },
    {
      "cell_type": "code",
      "execution_count": null,
      "metadata": {
        "colab": {
          "base_uri": "https://localhost:8080/"
        },
        "outputId": "bfabae29-5236-4049-a84e-63b9520ac44b",
        "id": "OEd_vPwdTJ3K"
      },
      "outputs": [
        {
          "output_type": "stream",
          "name": "stdout",
          "text": [
            "Accuracy of model on compression of clean testset: 94.61%\n",
            "Accuracy of model on protected attacked testset (FGSM attack): 80.49%\n",
            "Accuracy of model on protected attacked testset (PGD attack): 75.74%\n"
          ]
        }
      ],
      "source": [
        "# Evaluate the model accuracy on the clean test data\n",
        "quality = 90\n",
        "clean_accuracy = calculate_compression_accuracy(model, test_loader, quality)\n",
        "print(f'Accuracy of model on compression of clean testset: {clean_accuracy:.2f}%')\n",
        "\n",
        "\n",
        "######################################################### FGSM attack ######################################################### \n",
        "# Generate adversarial examples using the FGSM attack\n",
        "epsilon = 0.1\n",
        "\n",
        "adv_examples = []\n",
        "for images, labels in test_loader:\n",
        "    images = images.to(device)\n",
        "    labels = labels.to(device)\n",
        "    adv_images = fgsm_attack(model, images, labels, epsilon)\n",
        "    adv_examples.append((adv_images, labels))\n",
        "\n",
        "# Evaluate the model accuracy on the adversarial test data\n",
        "adversarial_accuracy = calculate_compression_accuracy(model, adv_examples, quality)\n",
        "print(f'Accuracy of model on protected attacked testset (FGSM attack): {adversarial_accuracy:.2f}%')\n",
        "\n",
        "\n",
        "######################################################### PGD attack ######################################################### \n",
        "# Generate adversarial examples using the PGD attack\n",
        "epsilon=0.3\n",
        "alpha=0.01\n",
        "num_iter=40\n",
        "\n",
        "adv_examples = []\n",
        "for images, labels in test_loader:\n",
        "    images = images.to(device)\n",
        "    labels = labels.to(device)\n",
        "    adv_images = pgd_attack(model, images, labels, epsilon, alpha, num_iter)\n",
        "    adv_examples.append((adv_images, labels))\n",
        "\n",
        "# Evaluate the model accuracy on the adversarial test data\n",
        "adversarial_accuracy = calculate_compression_accuracy(model, adv_examples, quality)\n",
        "print(f'Accuracy of model on protected attacked testset (PGD attack): {adversarial_accuracy:.2f}%')"
      ]
    },
    {
      "cell_type": "markdown",
      "source": [
        "## Calculate accuracy on compressed images of varying quality levels"
      ],
      "metadata": {
        "id": "3lsN8o_COIHi"
      }
    },
    {
      "cell_type": "code",
      "source": [
        "# Test model on compressed images of varying quality levels\n",
        "quality_range = [90, 80, 70, 60, 50 , 40]\n",
        "\n",
        "# Evaluate the model accuracy on the clean test data\n",
        "for quality in quality_range:\n",
        "  clean_accuracy = calculate_compression_accuracy(model, test_loader, quality)\n",
        "  print(f\"Accuracy of model on compression of clean testset (quality {quality}): {clean_accuracy:.2f}%\")\n",
        "\n",
        "\n",
        "######################################################### FGSM attack ######################################################### \n",
        "# Generate adversarial examples using the FGSM attack\n",
        "epsilon = 0.1\n",
        "\n",
        "adv_examples = []\n",
        "for images, labels in test_loader:\n",
        "    images = images.to(device)\n",
        "    labels = labels.to(device)\n",
        "    adv_images = fgsm_attack(model, images, labels, epsilon)\n",
        "    adv_examples.append((adv_images, labels))\n",
        "\n",
        "# Evaluate the model accuracy on the adversarial test data\n",
        "for quality in quality_range:\n",
        "  adversarial_accuracy = calculate_compression_accuracy(model, adv_examples, quality)\n",
        "  print(f'Accuracy of model on protected attacked testset (FGSM attack) (quality {quality}): {adversarial_accuracy:.2f}%')\n",
        "\n",
        "\n",
        "######################################################### PGD attack ######################################################### \n",
        "# Generate adversarial examples using the PGD attack\n",
        "epsilon=0.3\n",
        "alpha=0.01\n",
        "num_iter=40\n",
        "\n",
        "adv_examples = []\n",
        "for images, labels in test_loader:\n",
        "    images = images.to(device)\n",
        "    labels = labels.to(device)\n",
        "    adv_images = pgd_attack(model, images, labels, epsilon, alpha, num_iter)\n",
        "    adv_examples.append((adv_images, labels))\n",
        "\n",
        "# Evaluate the model accuracy on the adversarial test data\n",
        "for quality in quality_range:\n",
        "  adversarial_accuracy = calculate_compression_accuracy(model, adv_examples, quality)\n",
        "  print(f'Accuracy of model on protected attacked testset (PGD attack) (quality {quality}): {adversarial_accuracy:.2f}%')\n"
      ],
      "metadata": {
        "id": "Ehwdi3-8vUYq",
        "outputId": "1534a1cd-5439-48f5-88bb-4bd4611d4ce5",
        "colab": {
          "base_uri": "https://localhost:8080/"
        }
      },
      "execution_count": null,
      "outputs": [
        {
          "output_type": "stream",
          "name": "stdout",
          "text": [
            "Accuracy of model on compression of clean testset (quality 90): 94.61%\n",
            "Accuracy of model on compression of clean testset (quality 80): 87.08%\n",
            "Accuracy of model on compression of clean testset (quality 70): 52.84%\n",
            "Accuracy of model on compression of clean testset (quality 60): 62.27%\n",
            "Accuracy of model on compression of clean testset (quality 50): 47.98%\n",
            "Accuracy of model on compression of clean testset (quality 40): 19.15%\n",
            "Accuracy of model on protected attacked testset (FGSM attack) (quality 90): 80.49%\n",
            "Accuracy of model on protected attacked testset (FGSM attack) (quality 80): 33.91%\n",
            "Accuracy of model on protected attacked testset (FGSM attack) (quality 70): 10.03%\n",
            "Accuracy of model on protected attacked testset (FGSM attack) (quality 60): 24.20%\n",
            "Accuracy of model on protected attacked testset (FGSM attack) (quality 50): 11.91%\n",
            "Accuracy of model on protected attacked testset (FGSM attack) (quality 40): 9.89%\n",
            "Accuracy of model on protected attacked testset (PGD attack) (quality 90): 75.70%\n",
            "Accuracy of model on protected attacked testset (PGD attack) (quality 80): 31.61%\n",
            "Accuracy of model on protected attacked testset (PGD attack) (quality 70): 9.77%\n",
            "Accuracy of model on protected attacked testset (PGD attack) (quality 60): 22.33%\n",
            "Accuracy of model on protected attacked testset (PGD attack) (quality 50): 11.35%\n",
            "Accuracy of model on protected attacked testset (PGD attack) (quality 40): 9.74%\n"
          ]
        }
      ]
    },
    {
      "cell_type": "markdown",
      "source": [
        "## Visualize natural image vs attack image vs compress image"
      ],
      "metadata": {
        "id": "6NQn_U1jbjUJ"
      }
    },
    {
      "cell_type": "code",
      "source": [
        "input, label = next(iter(test_loader))\n",
        "adv_input = fgsm_attack(model, input.to(device), label.to(device), epsilon)\n",
        "adv_input = adv_input.cpu()\n",
        "protected_input = compress(adv_input[0][0].numpy(), quality)"
      ],
      "metadata": {
        "id": "gPVoSIJr_gZs"
      },
      "execution_count": null,
      "outputs": []
    },
    {
      "cell_type": "code",
      "source": [
        "fig, axes = plt.subplots(1, 3, figsize=(12,5))\n",
        "\n",
        "axes[0].imshow(input[0][0], cmap='gray')\n",
        "axes[0].set_title('Natural')\n",
        "axes[0].set_xticks([])\n",
        "axes[0].set_yticks([])\n",
        "\n",
        "axes[1].imshow(adv_input.cpu()[0][0], cmap='gray')\n",
        "axes[1].set_title('FGSM attack')\n",
        "axes[1].set_xticks([])\n",
        "axes[1].set_yticks([])\n",
        "\n",
        "axes[2].imshow(protected_input, cmap='gray')\n",
        "axes[2].set_title('Compress image')\n",
        "axes[2].set_xticks([])\n",
        "axes[2].set_yticks([])\n",
        "\n",
        "plt.show()"
      ],
      "metadata": {
        "colab": {
          "base_uri": "https://localhost:8080/",
          "height": 332
        },
        "id": "29SJlmMI_ASD",
        "outputId": "c34eb6b0-ad65-432a-e4e1-0e694754679b"
      },
      "execution_count": null,
      "outputs": [
        {
          "output_type": "display_data",
          "data": {
            "text/plain": [
              "<Figure size 1200x500 with 3 Axes>"
            ],
            "image/png": "[encoded data removed]"
          },
          "metadata": {}
        }
      ]
    },
    {
      "cell_type": "markdown",
      "source": [
        "# 4. Experiment (Ealuate empirically the effect of attack/defence)"
      ],
      "metadata": {
        "id": "1WkxwVF63lhG"
      }
    },
    {
      "cell_type": "markdown",
      "source": [
        "## Load MNIST test dataset"
      ],
      "metadata": {
        "id": "r5klV92y8OOG"
      }
    },
    {
      "cell_type": "code",
      "execution_count": null,
      "metadata": {
        "id": "6RaKM0ecVsTo",
        "colab": {
          "base_uri": "https://localhost:8080/"
        },
        "outputId": "8b13ba76-d547-4a76-aa6a-0f86b08590fc"
      },
      "outputs": [
        {
          "output_type": "stream",
          "name": "stdout",
          "text": [
            "Downloading http://yann.lecun.com/exdb/mnist/train-images-idx3-ubyte.gz\n",
            "Downloading http://yann.lecun.com/exdb/mnist/train-images-idx3-ubyte.gz to data/MNIST/raw/train-images-idx3-ubyte.gz\n"
          ]
        },
        {
          "output_type": "stream",
          "name": "stderr",
          "text": [
            "100%|██████████| 9912422/9912422 [00:00<00:00, 145978031.67it/s]"
          ]
        },
        {
          "output_type": "stream",
          "name": "stdout",
          "text": [
            "Extracting data/MNIST/raw/train-images-idx3-ubyte.gz to data/MNIST/raw\n"
          ]
        },
        {
          "output_type": "stream",
          "name": "stderr",
          "text": [
            "\n"
          ]
        },
        {
          "output_type": "stream",
          "name": "stdout",
          "text": [
            "\n",
            "Downloading http://yann.lecun.com/exdb/mnist/train-labels-idx1-ubyte.gz\n",
            "Downloading http://yann.lecun.com/exdb/mnist/train-labels-idx1-ubyte.gz to data/MNIST/raw/train-labels-idx1-ubyte.gz\n"
          ]
        },
        {
          "output_type": "stream",
          "name": "stderr",
          "text": [
            "100%|██████████| 28881/28881 [00:00<00:00, 44551560.80it/s]\n"
          ]
        },
        {
          "output_type": "stream",
          "name": "stdout",
          "text": [
            "Extracting data/MNIST/raw/train-labels-idx1-ubyte.gz to data/MNIST/raw\n",
            "\n",
            "Downloading http://yann.lecun.com/exdb/mnist/t10k-images-idx3-ubyte.gz\n",
            "Downloading http://yann.lecun.com/exdb/mnist/t10k-images-idx3-ubyte.gz to data/MNIST/raw/t10k-images-idx3-ubyte.gz\n"
          ]
        },
        {
          "output_type": "stream",
          "name": "stderr",
          "text": [
            "100%|██████████| 1648877/1648877 [00:00<00:00, 34271017.82it/s]"
          ]
        },
        {
          "output_type": "stream",
          "name": "stdout",
          "text": [
            "Extracting data/MNIST/raw/t10k-images-idx3-ubyte.gz to data/MNIST/raw\n"
          ]
        },
        {
          "output_type": "stream",
          "name": "stderr",
          "text": [
            "\n"
          ]
        },
        {
          "output_type": "stream",
          "name": "stdout",
          "text": [
            "\n",
            "Downloading http://yann.lecun.com/exdb/mnist/t10k-labels-idx1-ubyte.gz\n",
            "Downloading http://yann.lecun.com/exdb/mnist/t10k-labels-idx1-ubyte.gz to data/MNIST/raw/t10k-labels-idx1-ubyte.gz\n"
          ]
        },
        {
          "output_type": "stream",
          "name": "stderr",
          "text": [
            "100%|██████████| 4542/4542 [00:00<00:00, 7759889.52it/s]\n"
          ]
        },
        {
          "output_type": "stream",
          "name": "stdout",
          "text": [
            "Extracting data/MNIST/raw/t10k-labels-idx1-ubyte.gz to data/MNIST/raw\n",
            "\n"
          ]
        }
      ],
      "source": [
        "from torchvision.datasets import MNIST\n",
        "from torchvision.transforms import ToTensor\n",
        "import cv2\n",
        "\n",
        "train_dataset = MNIST(root='data/', train=True, transform=ToTensor(), download=True)\n",
        "test_dataset = MNIST(root='data/', train=False, transform=ToTensor(), download=True)"
      ]
    },
    {
      "cell_type": "code",
      "source": [
        "batch_size = 128 \n",
        "learning_rate = 0.001\n",
        "num_epochs = 10"
      ],
      "metadata": {
        "id": "v75kTlTT5BZ8"
      },
      "execution_count": null,
      "outputs": []
    },
    {
      "cell_type": "code",
      "execution_count": null,
      "metadata": {
        "id": "NGFdyBdGVsTp"
      },
      "outputs": [],
      "source": [
        "train_loader = torch.utils.data.DataLoader(train_dataset, batch_size=batch_size, shuffle=True, pin_memory=True)\n",
        "test_loader = torch.utils.data.DataLoader(test_dataset, batch_size=1, shuffle=False, pin_memory=True)"
      ]
    },
    {
      "cell_type": "code",
      "source": [
        "print(f'length of train_dataset is : {len(train_dataset)} and length of train_loader is : {len(train_loader)}')\n",
        "print(f'length of test_dataset is : {len(test_dataset)} and length of test_loader is : {len(test_loader)}')"
      ],
      "metadata": {
        "colab": {
          "base_uri": "https://localhost:8080/"
        },
        "id": "nsrMhY4eCDEV",
        "outputId": "aa836e9d-f9ef-43a7-8044-3eefb5b3a023"
      },
      "execution_count": null,
      "outputs": [
        {
          "output_type": "stream",
          "name": "stdout",
          "text": [
            "length of train_dataset is : 60000 and length of train_loader is : 469\n",
            "length of test_dataset is : 10000 and length of test_loader is : 10000\n"
          ]
        }
      ]
    },
    {
      "cell_type": "markdown",
      "source": [
        "## Define required functions"
      ],
      "metadata": {
        "id": "7M_9guVC8Uvf"
      }
    },
    {
      "cell_type": "code",
      "source": [
        "def train_model(model, train_loader, num_epochs, criterion, optimizer):\n",
        "  train_loss = []\n",
        "\n",
        "  for epoch in range(num_epochs):\n",
        "\n",
        "    train_epoch_loss = 0\n",
        "    loop = tqdm(enumerate(train_loader), total =len(train_loader), leave = False)\n",
        "    \n",
        "    for i , (img, label) in loop:\n",
        "\n",
        "      # transfer tensor to device\n",
        "      img = img.to(device)\n",
        "      label = label.to(device)\n",
        "\n",
        "      # forward pass\n",
        "      y_pred = model(img)\n",
        "      loss_train = criterion(y_pred, label)\n",
        "\n",
        "      # backward pass\n",
        "      optimizer.zero_grad()  # clear the gradients\n",
        "      loss_train.backward()\n",
        "      optimizer.step()       # update model weights\n",
        "\n",
        "      train_epoch_loss += loss_train.item()\n",
        "    \n",
        "    train_loss.append(train_epoch_loss/len(train_loader))\n",
        "\n",
        "    # Upgrade progress bar\n",
        "    loop.set_description(f'Epoch : [{epoch + 1}/{num_epochs}]')\n",
        "    loop.set_postfix(loss = loss_train.item())\n",
        "\n",
        "  return train_loss\n",
        "\n",
        "\n",
        "# evaluation of model \n",
        "def test_model(model, dataloader):\n",
        "  model.eval()  # set the model to evaluation mode\n",
        "  correct = 0\n",
        "  total = 0\n",
        "  with torch.no_grad():\n",
        "    for images, labels in dataloader:\n",
        "      images = images.to(device)\n",
        "      labels = labels.to(device)\n",
        "      outputs = model(images)\n",
        "      _, predicted = torch.max(outputs.data, 1)\n",
        "      total += labels.size(0)\n",
        "      correct += (predicted == labels).sum().item()\n",
        "\n",
        "  accuracy = 100 * correct / total\n",
        "  return accuracy  \n",
        "\n",
        "\n",
        "def apply_fgsm_attack(model, test_loader, epsilon): #TODO\n",
        "\n",
        "  num_perturbations = int(len(test_dataset) * 0.6)\n",
        "  perturbation_indices = list(np.random.choice(len(test_dataset), num_perturbations, replace=False))\n",
        "\n",
        "  adv_examples = []\n",
        "  for i, (images, labels) in enumerate(test_loader): # portion of test data TODO\n",
        "      images = images.to(device)\n",
        "      labels = labels.to(device)\n",
        "      if i in perturbation_indices:\n",
        "        adv_images = fgsm_attack(model, images, labels, epsilon)\n",
        "        adv_examples.append((adv_images, labels))  \n",
        "      else:\n",
        "          adv_examples.append((images, labels)) \n",
        "      # adv_images = fgsm_attack(model, images, labels, epsilon)\n",
        "      # adv_examples.append((adv_images, labels)) \n",
        "\n",
        "  return adv_examples\n",
        "\n",
        "\n",
        "def apply_defence(adv_examples, quality):\n",
        "\n",
        "  compress_examples = []\n",
        "  for images, labels in adv_examples:\n",
        "      images = images.to(device)\n",
        "      labels = labels.to(device)\n",
        "\n",
        "      images = images.cpu()\n",
        "      compressed_data = np.zeros_like(images.numpy())\n",
        "      for i in range(len(images)):\n",
        "        compressed_data[i][0] = compress(images[i][0].numpy(), quality)\n",
        "      \n",
        "      compressed_data = torch.from_numpy(compressed_data)  \n",
        "      compressed_data = compressed_data.to(device)\n",
        "      compress_examples.append((compressed_data, labels))  \n",
        "\n",
        "  return compress_examples\n",
        "\n",
        "\n"
      ],
      "metadata": {
        "id": "OQIIdpNL4Q8C"
      },
      "execution_count": null,
      "outputs": []
    },
    {
      "cell_type": "markdown",
      "source": [
        "In the following function we will use all of the previous functions in order to:\n",
        "\n",
        "\n",
        "1.   Train digit classfier\n",
        "2.   Test model on clean test set\n",
        "3.   Attack to a portion of test set\n",
        "4.   Test model on attacked test set\n",
        "5.   Apply compression algorithm to attacked test set\n",
        "6.   Test model on protected test set\n",
        "7.   Save accuracies of modol in steps 4 and 6 in different runs in order to applying statistic test (Wilcoxon)\n",
        "\n",
        "\n",
        "\n",
        "\n"
      ],
      "metadata": {
        "id": "WRQ3byg98ZKn"
      }
    },
    {
      "cell_type": "code",
      "source": [
        "def experiment(dataloader, attack_epsilon, defence_quality):\n",
        "  \n",
        "  # Set the device to GPU if available, otherwise use CPU\n",
        "  device = torch.device(\"cuda\" if torch.cuda.is_available() else \"cpu\")\n",
        "\n",
        "  model = LeNet()\n",
        "  criterion = nn.CrossEntropyLoss()\n",
        "  optimizer = optim.SGD(model.parameters(), lr=learning_rate)\n",
        "\n",
        "  model = model.to(device)\n",
        "  criterion = criterion.to(device)\n",
        "\n",
        "  train_loss = train_model(model, train_loader, num_epochs, criterion, optimizer)\n",
        "\n",
        "  # Compute initial accuracy without attack or defence\n",
        "  acc_clean = test_model(model, dataloader)\n",
        "  print(f\"Accuracy without attack or defence : {acc_clean}\")\n",
        "\n",
        "  # Generate attacked test set and compute accuracy with attack only\n",
        "  attacked_test_set = apply_fgsm_attack(model, dataloader, attack_epsilon) # attack portion of test dataset\n",
        "  acc_attack_only = test_model(model, attacked_test_set)\n",
        "  # no_defence_acc.append(acc_attack_only)\n",
        "  print(f\"Accuracy with attack only (no defence): {acc_attack_only}\")\n",
        "  \n",
        "  # Apply defence and compute restored accuracy\n",
        "  jpeg_defence_test_set = apply_defence(attacked_test_set, defence_quality)\n",
        "  acc_jpeg_defence = test_model(model, jpeg_defence_test_set)\n",
        "  # jpeg_defence_acc.append(acc_jpeg_defence)\n",
        "  print(f\"Accuracy with JPEG defence: {acc_jpeg_defence}\\n\\n\")\n",
        "\n",
        "  return acc_attack_only, acc_jpeg_defence"
      ],
      "metadata": {
        "id": "H6Ko-t2j31xA"
      },
      "execution_count": null,
      "outputs": []
    },
    {
      "cell_type": "markdown",
      "source": [
        "## Run experiments"
      ],
      "metadata": {
        "id": "b0K5MLw5nUXU"
      }
    },
    {
      "cell_type": "markdown",
      "source": [
        "### Experiment 1"
      ],
      "metadata": {
        "id": "CuukumqW_Sd2"
      }
    },
    {
      "cell_type": "code",
      "source": [
        "import numpy as np\n",
        "import matplotlib.pyplot as plt\n",
        "from scipy.stats import wilcoxon\n",
        "\n",
        "# Set up hyperparameters for experiments\n",
        "num_runs = 20\n",
        "attack_epsilons = [0.05, 0.1, 0.15] # Varying levels of attack strength\n",
        "defence_quality = [75, 85, 95] # Varying levels of defence strength\n",
        "\n",
        "# Define lists to store accuracy values for each experiment\n",
        "no_defence_acc = []\n",
        "jpeg_defence_acc = []\n",
        "\n",
        "# Run experiments\n",
        "for i in range(num_runs):\n",
        "    print(f\"Running experiment {i+1}...\")\n",
        "\n",
        "    acc_attack_only, acc_jpeg_defence = experiment(test_loader, attack_epsilons[0], defence_quality[0])\n",
        "    no_defence_acc.append(acc_attack_only)\n",
        "    jpeg_defence_acc.append(acc_jpeg_defence)\n"
      ],
      "metadata": {
        "colab": {
          "base_uri": "https://localhost:8080/"
        },
        "outputId": "db2bf2ce-c5e0-4164-a0ec-fecba4b38f74",
        "id": "_xgerXTTgQf2"
      },
      "execution_count": null,
      "outputs": [
        {
          "output_type": "stream",
          "name": "stdout",
          "text": [
            "Running experiment 1...\n"
          ]
        },
        {
          "output_type": "stream",
          "name": "stderr",
          "text": []
        },
        {
          "output_type": "stream",
          "name": "stdout",
          "text": [
            "Accuracy without attack or defence : 13.64\n",
            "Accuracy with attack only (no defence): 12.63\n",
            "Accuracy with JPEG defence: 11.55\n",
            "\n",
            "\n",
            "Running experiment 2...\n"
          ]
        },
        {
          "output_type": "stream",
          "name": "stderr",
          "text": []
        },
        {
          "output_type": "stream",
          "name": "stdout",
          "text": [
            "Accuracy without attack or defence : 11.09\n",
            "Accuracy with attack only (no defence): 10.47\n",
            "Accuracy with JPEG defence: 10.54\n",
            "\n",
            "\n",
            "Running experiment 3...\n"
          ]
        },
        {
          "output_type": "stream",
          "name": "stderr",
          "text": []
        },
        {
          "output_type": "stream",
          "name": "stdout",
          "text": [
            "Accuracy without attack or defence : 31.35\n",
            "Accuracy with attack only (no defence): 24.23\n",
            "Accuracy with JPEG defence: 15.23\n",
            "\n",
            "\n",
            "Running experiment 4...\n"
          ]
        },
        {
          "output_type": "stream",
          "name": "stderr",
          "text": []
        },
        {
          "output_type": "stream",
          "name": "stdout",
          "text": [
            "Accuracy without attack or defence : 21.26\n",
            "Accuracy with attack only (no defence): 13.29\n",
            "Accuracy with JPEG defence: 12.89\n",
            "\n",
            "\n",
            "Running experiment 5...\n"
          ]
        },
        {
          "output_type": "stream",
          "name": "stderr",
          "text": []
        },
        {
          "output_type": "stream",
          "name": "stdout",
          "text": [
            "Accuracy without attack or defence : 31.56\n",
            "Accuracy with attack only (no defence): 25.4\n",
            "Accuracy with JPEG defence: 14.08\n",
            "\n",
            "\n",
            "Running experiment 6...\n"
          ]
        },
        {
          "output_type": "stream",
          "name": "stderr",
          "text": []
        },
        {
          "output_type": "stream",
          "name": "stdout",
          "text": [
            "Accuracy without attack or defence : 20.94\n",
            "Accuracy with attack only (no defence): 20.48\n",
            "Accuracy with JPEG defence: 13.46\n",
            "\n",
            "\n",
            "Running experiment 7...\n"
          ]
        },
        {
          "output_type": "stream",
          "name": "stderr",
          "text": []
        },
        {
          "output_type": "stream",
          "name": "stdout",
          "text": [
            "Accuracy without attack or defence : 43.4\n",
            "Accuracy with attack only (no defence): 37.64\n",
            "Accuracy with JPEG defence: 16.49\n",
            "\n",
            "\n",
            "Running experiment 8...\n"
          ]
        },
        {
          "output_type": "stream",
          "name": "stderr",
          "text": []
        },
        {
          "output_type": "stream",
          "name": "stdout",
          "text": [
            "Accuracy without attack or defence : 24.53\n",
            "Accuracy with attack only (no defence): 19.21\n",
            "Accuracy with JPEG defence: 10.97\n",
            "\n",
            "\n",
            "Running experiment 9...\n"
          ]
        },
        {
          "output_type": "stream",
          "name": "stderr",
          "text": []
        },
        {
          "output_type": "stream",
          "name": "stdout",
          "text": [
            "Accuracy without attack or defence : 11.36\n",
            "Accuracy with attack only (no defence): 11.36\n",
            "Accuracy with JPEG defence: 11.35\n",
            "\n",
            "\n",
            "Running experiment 10...\n"
          ]
        },
        {
          "output_type": "stream",
          "name": "stderr",
          "text": []
        },
        {
          "output_type": "stream",
          "name": "stdout",
          "text": [
            "Accuracy without attack or defence : 50.2\n",
            "Accuracy with attack only (no defence): 42.55\n",
            "Accuracy with JPEG defence: 19.93\n",
            "\n",
            "\n",
            "Running experiment 11...\n"
          ]
        },
        {
          "output_type": "stream",
          "name": "stderr",
          "text": []
        },
        {
          "output_type": "stream",
          "name": "stdout",
          "text": [
            "Accuracy without attack or defence : 15.52\n",
            "Accuracy with attack only (no defence): 13.55\n",
            "Accuracy with JPEG defence: 11.61\n",
            "\n",
            "\n",
            "Running experiment 12...\n"
          ]
        },
        {
          "output_type": "stream",
          "name": "stderr",
          "text": []
        },
        {
          "output_type": "stream",
          "name": "stdout",
          "text": [
            "Accuracy without attack or defence : 29.93\n",
            "Accuracy with attack only (no defence): 25.2\n",
            "Accuracy with JPEG defence: 13.61\n",
            "\n",
            "\n",
            "Running experiment 13...\n"
          ]
        },
        {
          "output_type": "stream",
          "name": "stderr",
          "text": []
        },
        {
          "output_type": "stream",
          "name": "stdout",
          "text": [
            "Accuracy without attack or defence : 52.85\n",
            "Accuracy with attack only (no defence): 46.6\n",
            "Accuracy with JPEG defence: 17.34\n",
            "\n",
            "\n",
            "Running experiment 14...\n"
          ]
        },
        {
          "output_type": "stream",
          "name": "stderr",
          "text": []
        },
        {
          "output_type": "stream",
          "name": "stdout",
          "text": [
            "Accuracy without attack or defence : 47.56\n",
            "Accuracy with attack only (no defence): 43.11\n",
            "Accuracy with JPEG defence: 22.64\n",
            "\n",
            "\n",
            "Running experiment 15...\n"
          ]
        },
        {
          "output_type": "stream",
          "name": "stderr",
          "text": []
        },
        {
          "output_type": "stream",
          "name": "stdout",
          "text": [
            "Accuracy without attack or defence : 22.68\n",
            "Accuracy with attack only (no defence): 20.42\n",
            "Accuracy with JPEG defence: 12.24\n",
            "\n",
            "\n",
            "Running experiment 16...\n"
          ]
        },
        {
          "output_type": "stream",
          "name": "stderr",
          "text": []
        },
        {
          "output_type": "stream",
          "name": "stdout",
          "text": [
            "Accuracy without attack or defence : 33.08\n",
            "Accuracy with attack only (no defence): 28.26\n",
            "Accuracy with JPEG defence: 13.49\n",
            "\n",
            "\n",
            "Running experiment 17...\n"
          ]
        },
        {
          "output_type": "stream",
          "name": "stderr",
          "text": []
        },
        {
          "output_type": "stream",
          "name": "stdout",
          "text": [
            "Accuracy without attack or defence : 20.73\n",
            "Accuracy with attack only (no defence): 19.58\n",
            "Accuracy with JPEG defence: 15.68\n",
            "\n",
            "\n",
            "Running experiment 18...\n"
          ]
        },
        {
          "output_type": "stream",
          "name": "stderr",
          "text": []
        },
        {
          "output_type": "stream",
          "name": "stdout",
          "text": [
            "Accuracy without attack or defence : 25.0\n",
            "Accuracy with attack only (no defence): 22.26\n",
            "Accuracy with JPEG defence: 12.64\n",
            "\n",
            "\n",
            "Running experiment 19...\n"
          ]
        },
        {
          "output_type": "stream",
          "name": "stderr",
          "text": []
        },
        {
          "output_type": "stream",
          "name": "stdout",
          "text": [
            "Accuracy without attack or defence : 11.63\n",
            "Accuracy with attack only (no defence): 11.47\n",
            "Accuracy with JPEG defence: 11.35\n",
            "\n",
            "\n",
            "Running experiment 20...\n"
          ]
        },
        {
          "output_type": "stream",
          "name": "stderr",
          "text": []
        },
        {
          "output_type": "stream",
          "name": "stdout",
          "text": [
            "Accuracy without attack or defence : 16.96\n",
            "Accuracy with attack only (no defence): 12.07\n",
            "Accuracy with JPEG defence: 6.53\n",
            "\n",
            "\n"
          ]
        }
      ]
    },
    {
      "cell_type": "code",
      "source": [
        "# Display boxplots of accuracy values\n",
        "fig, ax = plt.subplots()\n",
        "ax.boxplot([no_defence_acc, jpeg_defence_acc], labels=['No Defence', 'JPEG Defence'])\n",
        "ax.set_xlabel('Defence Type')\n",
        "ax.set_ylabel('Accuracy')\n",
        "ax.set_title('Effect of Defence on Model Accuracy')\n",
        "plt.show()"
      ],
      "metadata": {
        "colab": {
          "base_uri": "https://localhost:8080/",
          "height": 472
        },
        "id": "AQ5iSJ1Y-tQd",
        "outputId": "b1fb82f0-ee02-4aae-90f6-0bc686c74041"
      },
      "execution_count": null,
      "outputs": [
        {
          "output_type": "display_data",
          "data": {
            "text/plain": [
              "<Figure size 640x480 with 1 Axes>"
            ],
            "image/png": "[encoded data removed]"
          },
          "metadata": {}
        }
      ]
    },
    {
      "cell_type": "markdown",
      "source": [
        "The data points out of the lower and upper whiskers are outliers, so, in this figure we have two outliers. As a result we can use wilcoxon test."
      ],
      "metadata": {
        "id": "cGnY1e-JM3IW"
      }
    },
    {
      "cell_type": "code",
      "source": [
        "# Test for statistical significance\n",
        "wilcoxon_result = wilcoxon(no_defence_acc, jpeg_defence_acc)\n",
        "print(f\"Wilcoxon test result: {wilcoxon_result}\")"
      ],
      "metadata": {
        "colab": {
          "base_uri": "https://localhost:8080/"
        },
        "id": "nxIX6HfA-uni",
        "outputId": "3fc5de36-ce56-42ee-f45b-4e0c468c4785"
      },
      "execution_count": null,
      "outputs": [
        {
          "output_type": "stream",
          "name": "stdout",
          "text": [
            "Wilcoxon test result: WilcoxonResult(statistic=2.0, pvalue=5.7220458984375e-06)\n"
          ]
        }
      ]
    },
    {
      "cell_type": "code",
      "source": [
        "p_value = wilcoxon_result.pvalue\n",
        "if p_value < 0.05:\n",
        "    print('The difference in accuracy is statistically significant. (These two lists are not from same population)')\n",
        "else:\n",
        "    print('The difference in accuracy is not statistically significant. (These two lists are from same population)')"
      ],
      "metadata": {
        "colab": {
          "base_uri": "https://localhost:8080/"
        },
        "id": "ToO0s8rS-wLo",
        "outputId": "fc6fcc70-26fe-42ae-843b-22884fdea0b1"
      },
      "execution_count": null,
      "outputs": [
        {
          "output_type": "stream",
          "name": "stdout",
          "text": [
            "The difference in accuracy is statistically significant. (These two lists are not from same population)\n"
          ]
        }
      ]
    },
    {
      "cell_type": "markdown",
      "source": [
        "### Experiment 2"
      ],
      "metadata": {
        "id": "5_ZI-Dkt_ZLF"
      }
    },
    {
      "cell_type": "code",
      "source": [
        "import numpy as np\n",
        "import matplotlib.pyplot as plt\n",
        "from scipy.stats import wilcoxon\n",
        "\n",
        "# Set up hyperparameters for experiments\n",
        "num_runs = 20\n",
        "attack_epsilons = [0.05, 0.1, 0.15] # Varying levels of attack strength\n",
        "defence_quality = [75, 85, 95] # Varying levels of defence strength\n",
        "\n",
        "# Define lists to store accuracy values for each experiment\n",
        "no_defence_acc = []\n",
        "jpeg_defence_acc = []\n",
        "\n",
        "# Run experiments\n",
        "for i in range(num_runs):\n",
        "    print(f\"Running experiment {i+1}...\")\n",
        "\n",
        "    acc_attack_only, acc_jpeg_defence = experiment(test_loader, attack_epsilons[0], defence_quality[2])\n",
        "    no_defence_acc.append(acc_attack_only)\n",
        "    jpeg_defence_acc.append(acc_jpeg_defence)\n"
      ],
      "metadata": {
        "colab": {
          "base_uri": "https://localhost:8080/"
        },
        "outputId": "83a5bf87-e1bb-44ee-d992-d7b8d3de8da1",
        "id": "YP69StiXfEpi"
      },
      "execution_count": null,
      "outputs": [
        {
          "output_type": "stream",
          "name": "stdout",
          "text": [
            "Running experiment 1...\n"
          ]
        },
        {
          "output_type": "stream",
          "name": "stderr",
          "text": []
        },
        {
          "output_type": "stream",
          "name": "stdout",
          "text": [
            "Accuracy without attack or defence : 18.68\n",
            "Accuracy with attack only (no defence): 17.48\n",
            "Accuracy with JPEG defence: 18.16\n",
            "\n",
            "\n",
            "Running experiment 2...\n"
          ]
        },
        {
          "output_type": "stream",
          "name": "stderr",
          "text": []
        },
        {
          "output_type": "stream",
          "name": "stdout",
          "text": [
            "Accuracy without attack or defence : 24.39\n",
            "Accuracy with attack only (no defence): 22.49\n",
            "Accuracy with JPEG defence: 23.19\n",
            "\n",
            "\n",
            "Running experiment 3...\n"
          ]
        },
        {
          "output_type": "stream",
          "name": "stderr",
          "text": []
        },
        {
          "output_type": "stream",
          "name": "stdout",
          "text": [
            "Accuracy without attack or defence : 19.34\n",
            "Accuracy with attack only (no defence): 15.04\n",
            "Accuracy with JPEG defence: 19.64\n",
            "\n",
            "\n",
            "Running experiment 4...\n"
          ]
        },
        {
          "output_type": "stream",
          "name": "stderr",
          "text": []
        },
        {
          "output_type": "stream",
          "name": "stdout",
          "text": [
            "Accuracy without attack or defence : 11.35\n",
            "Accuracy with attack only (no defence): 11.35\n",
            "Accuracy with JPEG defence: 11.35\n",
            "\n",
            "\n",
            "Running experiment 5...\n"
          ]
        },
        {
          "output_type": "stream",
          "name": "stderr",
          "text": []
        },
        {
          "output_type": "stream",
          "name": "stdout",
          "text": [
            "Accuracy without attack or defence : 22.83\n",
            "Accuracy with attack only (no defence): 18.71\n",
            "Accuracy with JPEG defence: 23.44\n",
            "\n",
            "\n",
            "Running experiment 6...\n"
          ]
        },
        {
          "output_type": "stream",
          "name": "stderr",
          "text": []
        },
        {
          "output_type": "stream",
          "name": "stdout",
          "text": [
            "Accuracy without attack or defence : 10.15\n",
            "Accuracy with attack only (no defence): 10.12\n",
            "Accuracy with JPEG defence: 11.04\n",
            "\n",
            "\n",
            "Running experiment 7...\n"
          ]
        },
        {
          "output_type": "stream",
          "name": "stderr",
          "text": []
        },
        {
          "output_type": "stream",
          "name": "stdout",
          "text": [
            "Accuracy without attack or defence : 44.66\n",
            "Accuracy with attack only (no defence): 38.86\n",
            "Accuracy with JPEG defence: 44.43\n",
            "\n",
            "\n",
            "Running experiment 8...\n"
          ]
        },
        {
          "output_type": "stream",
          "name": "stderr",
          "text": []
        },
        {
          "output_type": "stream",
          "name": "stdout",
          "text": [
            "Accuracy without attack or defence : 10.17\n",
            "Accuracy with attack only (no defence): 10.11\n",
            "Accuracy with JPEG defence: 10.37\n",
            "\n",
            "\n",
            "Running experiment 9...\n"
          ]
        },
        {
          "output_type": "stream",
          "name": "stderr",
          "text": []
        },
        {
          "output_type": "stream",
          "name": "stdout",
          "text": [
            "Accuracy without attack or defence : 20.26\n",
            "Accuracy with attack only (no defence): 17.39\n",
            "Accuracy with JPEG defence: 24.97\n",
            "\n",
            "\n",
            "Running experiment 10...\n"
          ]
        },
        {
          "output_type": "stream",
          "name": "stderr",
          "text": []
        },
        {
          "output_type": "stream",
          "name": "stdout",
          "text": [
            "Accuracy without attack or defence : 23.79\n",
            "Accuracy with attack only (no defence): 16.15\n",
            "Accuracy with JPEG defence: 21.61\n",
            "\n",
            "\n",
            "Running experiment 11...\n"
          ]
        },
        {
          "output_type": "stream",
          "name": "stderr",
          "text": []
        },
        {
          "output_type": "stream",
          "name": "stdout",
          "text": [
            "Accuracy without attack or defence : 25.41\n",
            "Accuracy with attack only (no defence): 23.4\n",
            "Accuracy with JPEG defence: 25.75\n",
            "\n",
            "\n",
            "Running experiment 12...\n"
          ]
        },
        {
          "output_type": "stream",
          "name": "stderr",
          "text": []
        },
        {
          "output_type": "stream",
          "name": "stdout",
          "text": [
            "Accuracy without attack or defence : 20.61\n",
            "Accuracy with attack only (no defence): 11.27\n",
            "Accuracy with JPEG defence: 21.19\n",
            "\n",
            "\n",
            "Running experiment 13...\n"
          ]
        },
        {
          "output_type": "stream",
          "name": "stderr",
          "text": []
        },
        {
          "output_type": "stream",
          "name": "stdout",
          "text": [
            "Accuracy without attack or defence : 23.91\n",
            "Accuracy with attack only (no defence): 20.27\n",
            "Accuracy with JPEG defence: 25.41\n",
            "\n",
            "\n",
            "Running experiment 14...\n"
          ]
        },
        {
          "output_type": "stream",
          "name": "stderr",
          "text": []
        },
        {
          "output_type": "stream",
          "name": "stdout",
          "text": [
            "Accuracy without attack or defence : 21.43\n",
            "Accuracy with attack only (no defence): 18.04\n",
            "Accuracy with JPEG defence: 22.96\n",
            "\n",
            "\n",
            "Running experiment 15...\n"
          ]
        },
        {
          "output_type": "stream",
          "name": "stderr",
          "text": []
        },
        {
          "output_type": "stream",
          "name": "stdout",
          "text": [
            "Accuracy without attack or defence : 32.79\n",
            "Accuracy with attack only (no defence): 29.58\n",
            "Accuracy with JPEG defence: 33.89\n",
            "\n",
            "\n",
            "Running experiment 16...\n"
          ]
        },
        {
          "output_type": "stream",
          "name": "stderr",
          "text": []
        },
        {
          "output_type": "stream",
          "name": "stdout",
          "text": [
            "Accuracy without attack or defence : 20.82\n",
            "Accuracy with attack only (no defence): 20.03\n",
            "Accuracy with JPEG defence: 20.21\n",
            "\n",
            "\n",
            "Running experiment 17...\n"
          ]
        },
        {
          "output_type": "stream",
          "name": "stderr",
          "text": []
        },
        {
          "output_type": "stream",
          "name": "stdout",
          "text": [
            "Accuracy without attack or defence : 17.13\n",
            "Accuracy with attack only (no defence): 12.82\n",
            "Accuracy with JPEG defence: 14.84\n",
            "\n",
            "\n",
            "Running experiment 18...\n"
          ]
        },
        {
          "output_type": "stream",
          "name": "stderr",
          "text": []
        },
        {
          "output_type": "stream",
          "name": "stdout",
          "text": [
            "Accuracy without attack or defence : 10.32\n",
            "Accuracy with attack only (no defence): 10.3\n",
            "Accuracy with JPEG defence: 10.37\n",
            "\n",
            "\n",
            "Running experiment 19...\n"
          ]
        },
        {
          "output_type": "stream",
          "name": "stderr",
          "text": []
        },
        {
          "output_type": "stream",
          "name": "stdout",
          "text": [
            "Accuracy without attack or defence : 10.28\n",
            "Accuracy with attack only (no defence): 10.28\n",
            "Accuracy with JPEG defence: 10.28\n",
            "\n",
            "\n",
            "Running experiment 20...\n"
          ]
        },
        {
          "output_type": "stream",
          "name": "stderr",
          "text": []
        },
        {
          "output_type": "stream",
          "name": "stdout",
          "text": [
            "Accuracy without attack or defence : 38.24\n",
            "Accuracy with attack only (no defence): 25.78\n",
            "Accuracy with JPEG defence: 33.86\n",
            "\n",
            "\n"
          ]
        }
      ]
    },
    {
      "cell_type": "code",
      "source": [
        "# Display boxplots of accuracy values\n",
        "fig, ax = plt.subplots()\n",
        "ax.boxplot([no_defence_acc, jpeg_defence_acc], labels=['No Defence', 'JPEG Defence'])\n",
        "ax.set_xlabel('Defence Type')\n",
        "ax.set_ylabel('Accuracy')\n",
        "ax.set_title('Effect of Defence on Model Accuracy')\n",
        "plt.show()"
      ],
      "metadata": {
        "colab": {
          "base_uri": "https://localhost:8080/",
          "height": 472
        },
        "outputId": "23480e56-be6e-41d1-f08c-547f2a6de8a3",
        "id": "Z4TwdTWkfEpk"
      },
      "execution_count": null,
      "outputs": [
        {
          "output_type": "display_data",
          "data": {
            "text/plain": [
              "<Figure size 640x480 with 1 Axes>"
            ],
            "image/png": "[encoded data removed]"
          },
          "metadata": {}
        }
      ]
    },
    {
      "cell_type": "code",
      "source": [
        "# Test for statistical significance\n",
        "wilcoxon_result = wilcoxon(no_defence_acc, jpeg_defence_acc)\n",
        "print(f\"Wilcoxon test result: {wilcoxon_result}\")"
      ],
      "metadata": {
        "colab": {
          "base_uri": "https://localhost:8080/"
        },
        "outputId": "b5f4685e-3ff8-4480-f4c1-9592147bfc19",
        "id": "Heo-EBybfEpl"
      },
      "execution_count": null,
      "outputs": [
        {
          "output_type": "stream",
          "name": "stdout",
          "text": [
            "Wilcoxon test result: WilcoxonResult(statistic=0.0, pvalue=0.00019643672621231134)\n"
          ]
        }
      ]
    },
    {
      "cell_type": "code",
      "source": [
        "p_value = wilcoxon_result.pvalue\n",
        "if p_value < 0.05:\n",
        "    print('The difference in accuracy is statistically significant. (These two lists are not from same population)')\n",
        "else:\n",
        "    print('The difference in accuracy is not statistically significant. (These two lists are from same population)')"
      ],
      "metadata": {
        "colab": {
          "base_uri": "https://localhost:8080/"
        },
        "outputId": "5233c2b7-8929-46ae-b8d6-56ffeaaf7e0f",
        "id": "WYZDrcRTfEpl"
      },
      "execution_count": null,
      "outputs": [
        {
          "output_type": "stream",
          "name": "stdout",
          "text": [
            "The difference in accuracy is statistically significant. (These two lists are not from same population)\n"
          ]
        }
      ]
    },
    {
      "cell_type": "markdown",
      "source": [
        "### Experiment 3"
      ],
      "metadata": {
        "id": "tyy8cKpducln"
      }
    },
    {
      "cell_type": "code",
      "source": [
        "import numpy as np\n",
        "import matplotlib.pyplot as plt\n",
        "from scipy.stats import wilcoxon\n",
        "\n",
        "# Set up hyperparameters for experiments\n",
        "num_runs = 20\n",
        "attack_epsilons = [0.05, 0.1, 0.15] # Varying levels of attack strength\n",
        "defence_quality = [75, 85, 95] # Varying levels of defence strength\n",
        "\n",
        "# Define lists to store accuracy values for each experiment\n",
        "no_defence_acc = []\n",
        "jpeg_defence_acc = []\n",
        "\n",
        "# Run experiments\n",
        "for i in range(num_runs):\n",
        "    print(f\"Running experiment {i+1}...\")\n",
        "\n",
        "    acc_attack_only, acc_jpeg_defence = experiment(test_loader, attack_epsilons[2], defence_quality[0])\n",
        "    no_defence_acc.append(acc_attack_only)\n",
        "    jpeg_defence_acc.append(acc_jpeg_defence)\n"
      ],
      "metadata": {
        "colab": {
          "base_uri": "https://localhost:8080/"
        },
        "outputId": "a4b07312-3a32-496c-88fe-01949116de5c",
        "id": "cZxHsBlmpv0p"
      },
      "execution_count": null,
      "outputs": [
        {
          "output_type": "stream",
          "name": "stdout",
          "text": [
            "Running experiment 1...\n"
          ]
        },
        {
          "output_type": "stream",
          "name": "stderr",
          "text": []
        },
        {
          "output_type": "stream",
          "name": "stdout",
          "text": [
            "Accuracy without attack or defence : 21.46\n",
            "Accuracy with attack only (no defence): 10.71\n",
            "Accuracy with JPEG defence: 12.39\n",
            "\n",
            "\n",
            "Running experiment 2...\n"
          ]
        },
        {
          "output_type": "stream",
          "name": "stderr",
          "text": []
        },
        {
          "output_type": "stream",
          "name": "stdout",
          "text": [
            "Accuracy without attack or defence : 20.41\n",
            "Accuracy with attack only (no defence): 13.28\n",
            "Accuracy with JPEG defence: 11.91\n",
            "\n",
            "\n",
            "Running experiment 3...\n"
          ]
        },
        {
          "output_type": "stream",
          "name": "stderr",
          "text": []
        },
        {
          "output_type": "stream",
          "name": "stdout",
          "text": [
            "Accuracy without attack or defence : 27.86\n",
            "Accuracy with attack only (no defence): 19.23\n",
            "Accuracy with JPEG defence: 12.73\n",
            "\n",
            "\n",
            "Running experiment 4...\n"
          ]
        },
        {
          "output_type": "stream",
          "name": "stderr",
          "text": []
        },
        {
          "output_type": "stream",
          "name": "stdout",
          "text": [
            "Accuracy without attack or defence : 32.7\n",
            "Accuracy with attack only (no defence): 22.49\n",
            "Accuracy with JPEG defence: 16.32\n",
            "\n",
            "\n",
            "Running experiment 5...\n"
          ]
        },
        {
          "output_type": "stream",
          "name": "stderr",
          "text": []
        },
        {
          "output_type": "stream",
          "name": "stdout",
          "text": [
            "Accuracy without attack or defence : 11.64\n",
            "Accuracy with attack only (no defence): 11.5\n",
            "Accuracy with JPEG defence: 11.61\n",
            "\n",
            "\n",
            "Running experiment 6...\n"
          ]
        },
        {
          "output_type": "stream",
          "name": "stderr",
          "text": []
        },
        {
          "output_type": "stream",
          "name": "stdout",
          "text": [
            "Accuracy without attack or defence : 20.14\n",
            "Accuracy with attack only (no defence): 9.53\n",
            "Accuracy with JPEG defence: 14.57\n",
            "\n",
            "\n",
            "Running experiment 7...\n"
          ]
        },
        {
          "output_type": "stream",
          "name": "stderr",
          "text": []
        },
        {
          "output_type": "stream",
          "name": "stdout",
          "text": [
            "Accuracy without attack or defence : 28.94\n",
            "Accuracy with attack only (no defence): 18.12\n",
            "Accuracy with JPEG defence: 13.03\n",
            "\n",
            "\n",
            "Running experiment 8...\n"
          ]
        },
        {
          "output_type": "stream",
          "name": "stderr",
          "text": []
        },
        {
          "output_type": "stream",
          "name": "stdout",
          "text": [
            "Accuracy without attack or defence : 36.07\n",
            "Accuracy with attack only (no defence): 24.71\n",
            "Accuracy with JPEG defence: 15.67\n",
            "\n",
            "\n",
            "Running experiment 9...\n"
          ]
        },
        {
          "output_type": "stream",
          "name": "stderr",
          "text": []
        },
        {
          "output_type": "stream",
          "name": "stdout",
          "text": [
            "Accuracy without attack or defence : 33.48\n",
            "Accuracy with attack only (no defence): 22.93\n",
            "Accuracy with JPEG defence: 13.17\n",
            "\n",
            "\n",
            "Running experiment 10...\n"
          ]
        },
        {
          "output_type": "stream",
          "name": "stderr",
          "text": []
        },
        {
          "output_type": "stream",
          "name": "stdout",
          "text": [
            "Accuracy without attack or defence : 27.25\n",
            "Accuracy with attack only (no defence): 18.63\n",
            "Accuracy with JPEG defence: 12.17\n",
            "\n",
            "\n",
            "Running experiment 11...\n"
          ]
        },
        {
          "output_type": "stream",
          "name": "stderr",
          "text": []
        },
        {
          "output_type": "stream",
          "name": "stdout",
          "text": [
            "Accuracy without attack or defence : 33.1\n",
            "Accuracy with attack only (no defence): 20.91\n",
            "Accuracy with JPEG defence: 15.11\n",
            "\n",
            "\n",
            "Running experiment 12...\n"
          ]
        },
        {
          "output_type": "stream",
          "name": "stderr",
          "text": []
        },
        {
          "output_type": "stream",
          "name": "stdout",
          "text": [
            "Accuracy without attack or defence : 24.63\n",
            "Accuracy with attack only (no defence): 19.48\n",
            "Accuracy with JPEG defence: 12.58\n",
            "\n",
            "\n",
            "Running experiment 13...\n"
          ]
        },
        {
          "output_type": "stream",
          "name": "stderr",
          "text": []
        },
        {
          "output_type": "stream",
          "name": "stdout",
          "text": [
            "Accuracy without attack or defence : 27.93\n",
            "Accuracy with attack only (no defence): 16.4\n",
            "Accuracy with JPEG defence: 14.98\n",
            "\n",
            "\n",
            "Running experiment 14...\n"
          ]
        },
        {
          "output_type": "stream",
          "name": "stderr",
          "text": []
        },
        {
          "output_type": "stream",
          "name": "stdout",
          "text": [
            "Accuracy without attack or defence : 28.93\n",
            "Accuracy with attack only (no defence): 17.93\n",
            "Accuracy with JPEG defence: 15.0\n",
            "\n",
            "\n",
            "Running experiment 15...\n"
          ]
        },
        {
          "output_type": "stream",
          "name": "stderr",
          "text": []
        },
        {
          "output_type": "stream",
          "name": "stdout",
          "text": [
            "Accuracy without attack or defence : 17.9\n",
            "Accuracy with attack only (no defence): 14.18\n",
            "Accuracy with JPEG defence: 13.95\n",
            "\n",
            "\n",
            "Running experiment 16...\n"
          ]
        },
        {
          "output_type": "stream",
          "name": "stderr",
          "text": []
        },
        {
          "output_type": "stream",
          "name": "stdout",
          "text": [
            "Accuracy without attack or defence : 33.47\n",
            "Accuracy with attack only (no defence): 25.45\n",
            "Accuracy with JPEG defence: 12.91\n",
            "\n",
            "\n",
            "Running experiment 17...\n"
          ]
        },
        {
          "output_type": "stream",
          "name": "stderr",
          "text": []
        },
        {
          "output_type": "stream",
          "name": "stdout",
          "text": [
            "Accuracy without attack or defence : 28.9\n",
            "Accuracy with attack only (no defence): 18.47\n",
            "Accuracy with JPEG defence: 17.81\n",
            "\n",
            "\n",
            "Running experiment 18...\n"
          ]
        },
        {
          "output_type": "stream",
          "name": "stderr",
          "text": []
        },
        {
          "output_type": "stream",
          "name": "stdout",
          "text": [
            "Accuracy without attack or defence : 11.35\n",
            "Accuracy with attack only (no defence): 11.35\n",
            "Accuracy with JPEG defence: 11.35\n",
            "\n",
            "\n",
            "Running experiment 19...\n"
          ]
        },
        {
          "output_type": "stream",
          "name": "stderr",
          "text": []
        },
        {
          "output_type": "stream",
          "name": "stdout",
          "text": [
            "Accuracy without attack or defence : 47.72\n",
            "Accuracy with attack only (no defence): 34.56\n",
            "Accuracy with JPEG defence: 17.75\n",
            "\n",
            "\n",
            "Running experiment 20...\n"
          ]
        },
        {
          "output_type": "stream",
          "name": "stderr",
          "text": []
        },
        {
          "output_type": "stream",
          "name": "stdout",
          "text": [
            "Accuracy without attack or defence : 27.59\n",
            "Accuracy with attack only (no defence): 21.65\n",
            "Accuracy with JPEG defence: 14.9\n",
            "\n",
            "\n"
          ]
        }
      ]
    },
    {
      "cell_type": "code",
      "source": [
        "# Display boxplots of accuracy values\n",
        "fig, ax = plt.subplots()\n",
        "ax.boxplot([no_defence_acc, jpeg_defence_acc], labels=['No Defence', 'JPEG Defence'])\n",
        "ax.set_xlabel('Defence Type')\n",
        "ax.set_ylabel('Accuracy')\n",
        "ax.set_title('Effect of Defence on Model Accuracy')\n",
        "plt.show()"
      ],
      "metadata": {
        "colab": {
          "base_uri": "https://localhost:8080/",
          "height": 472
        },
        "outputId": "8fca1d57-9157-4c04-d577-c3effe96ac91",
        "id": "DacWX7Qtpv0r"
      },
      "execution_count": null,
      "outputs": [
        {
          "output_type": "display_data",
          "data": {
            "text/plain": [
              "<Figure size 640x480 with 1 Axes>"
            ],
            "image/png": "[encoded data removed]"
          },
          "metadata": {}
        }
      ]
    },
    {
      "cell_type": "code",
      "source": [
        "# Test for statistical significance\n",
        "wilcoxon_result = wilcoxon(no_defence_acc, jpeg_defence_acc)\n",
        "print(f\"Wilcoxon test result: {wilcoxon_result}\")"
      ],
      "metadata": {
        "colab": {
          "base_uri": "https://localhost:8080/"
        },
        "outputId": "78da286d-4f0c-4e35-e3a7-da4d4d188b4f",
        "id": "VBficINCpv0r"
      },
      "execution_count": null,
      "outputs": [
        {
          "output_type": "stream",
          "name": "stdout",
          "text": [
            "Wilcoxon test result: WilcoxonResult(statistic=15.0, pvalue=0.001284705613291876)\n"
          ]
        }
      ]
    },
    {
      "cell_type": "code",
      "source": [
        "p_value = wilcoxon_result.pvalue\n",
        "if p_value < 0.05:\n",
        "    print('The difference in accuracy is statistically significant. (These two lists are not from same population)')\n",
        "else:\n",
        "    print('The difference in accuracy is not statistically significant. (These two lists are from same population)')"
      ],
      "metadata": {
        "colab": {
          "base_uri": "https://localhost:8080/"
        },
        "outputId": "3100b260-7638-4d12-efc7-3df6b5bbbcc3",
        "id": "hJ606P3bpv0r"
      },
      "execution_count": null,
      "outputs": [
        {
          "output_type": "stream",
          "name": "stdout",
          "text": [
            "The difference in accuracy is statistically significant. (These two lists are not from same population)\n"
          ]
        }
      ]
    },
    {
      "cell_type": "code",
      "source": [],
      "metadata": {
        "id": "PK6Fq7EQ_Ozb"
      },
      "execution_count": null,
      "outputs": []
    }
  ],
  "metadata": {
    "colab": {
      "provenance": [],
      "toc_visible": true,
      "gpuType": "T4",
      "include_colab_link": true
    },
    "kernelspec": {
      "display_name": "Python 3",
      "name": "python3"
    },
    "language_info": {
      "name": "python"
    },
    "gpuClass": "standard",
    "accelerator": "GPU"
  },
  "nbformat": 4,
  "nbformat_minor": 0
}